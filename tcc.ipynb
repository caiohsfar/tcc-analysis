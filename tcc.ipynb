{
 "cells": [
  {
   "cell_type": "code",
   "execution_count": 1,
   "id": "18461346",
   "metadata": {},
   "outputs": [],
   "source": [
    "#IMPORTS\n",
    "import firebase_admin\n",
    "from firebase_admin import firestore\n",
    "from firebase_admin import credentials\n",
    "import pandas as pd"
   ]
  },
  {
   "cell_type": "code",
   "execution_count": 2,
   "id": "d0dfeabf",
   "metadata": {},
   "outputs": [],
   "source": [
    "cred = credentials.Certificate(\"./brazillian-gastronomic-tour-firebase-adminsdk-ojrgu-1c98d6e4b6.json\")\n",
    "app = firebase_admin.initialize_app(cred)\n",
    "\n",
    "db = firestore.client()"
   ]
  },
  {
   "cell_type": "code",
   "execution_count": 83,
   "id": "bd9e278f",
   "metadata": {},
   "outputs": [],
   "source": [
    "def collection_to_df(collection):\n",
    "    items = list(db.collection(collection).stream())\n",
    "    items_dict = list(map(lambda x: {'id': x.id, **x.to_dict()}, items))\n",
    "    return pd.DataFrame(items_dict)\n",
    "    "
   ]
  },
  {
   "cell_type": "markdown",
   "id": "39373c38",
   "metadata": {},
   "source": [
    "# Inicializando dataframes"
   ]
  },
  {
   "cell_type": "code",
   "execution_count": 84,
   "id": "08a90577",
   "metadata": {
    "scrolled": true
   },
   "outputs": [],
   "source": [
    "#Initialize Dataframes\n",
    "\n",
    "users_df = collection_to_df(\"users\")\n",
    "users_df = users_df.rename(columns={\"gameLevel\": \"currentGameLevel\"})\n",
    "users_df = users_df.rename(columns={\"id\": \"user\"})\n",
    "users_df = users_df.set_index(\"user\")\n",
    "\n",
    "# REMOVE Gilberto e Caio\n",
    "users_df = users_df.drop(index = \"GyaYyj1DPDQCFL8dtFJeLUbnqsr2\").drop(index = \"LrXx1XUUAfT05eBhi37WwrUF33e2\")\n",
    "\n",
    "\n",
    "user_level_df = collection_to_df(\"userLevel\")\n",
    "\n",
    "a_questions_df = collection_to_df(\"answeredQuestions\")\n",
    "a_questions_df['question'] = a_questions_df['question'].astype(int)\n",
    "a_questions_df = a_questions_df.drop(columns=[\"correctAnswer\", \"id\"])\n",
    "questions_df = collection_to_df(\"questions\")\n",
    "questions_df = questions_df.rename(columns={\"id\": \"question\"})\n",
    "questions_df['question'] = questions_df['question'].astype(int)\n",
    "\n",
    "a_questions_df['lastUpdated']  = pd.to_datetime(a_questions_df.lastUpdated)\n",
    "a_questions_df = questions_df.merge(a_questions_df, how=\"inner\", on=\"question\")\n",
    "a_questions_df = a_questions_df.merge(users_df, how=\"inner\", on=\"user\")\n",
    "\n",
    "a_questions_df = a_questions_df.sort_values(\"lastUpdated\", ascending=True)\n",
    "\n",
    "user_level_df = user_level_df.merge(users_df, how=\"inner\", on=\"user\")\n",
    "\n",
    "#users_df\n"
   ]
  },
  {
   "cell_type": "markdown",
   "id": "f964b1c5",
   "metadata": {},
   "source": [
    "# Notas\n",
    "### Relação de notas dos jogadores por fase prática e de domínio"
   ]
  },
  {
   "cell_type": "code",
   "execution_count": 85,
   "id": "ec1ef59e",
   "metadata": {
    "scrolled": true
   },
   "outputs": [
    {
     "data": {
      "text/html": [
       "<div>\n",
       "<style scoped>\n",
       "    .dataframe tbody tr th:only-of-type {\n",
       "        vertical-align: middle;\n",
       "    }\n",
       "\n",
       "    .dataframe tbody tr th {\n",
       "        vertical-align: top;\n",
       "    }\n",
       "\n",
       "    .dataframe thead th {\n",
       "        text-align: right;\n",
       "    }\n",
       "</style>\n",
       "<table border=\"1\" class=\"dataframe\">\n",
       "  <thead>\n",
       "    <tr style=\"text-align: right;\">\n",
       "      <th>correct</th>\n",
       "      <th>user</th>\n",
       "      <th>ageRange</th>\n",
       "      <th>gender</th>\n",
       "      <th>lagunasPhase</th>\n",
       "      <th>False</th>\n",
       "      <th>True</th>\n",
       "      <th>nota</th>\n",
       "    </tr>\n",
       "  </thead>\n",
       "  <tbody>\n",
       "    <tr>\n",
       "      <th>0</th>\n",
       "      <td>1SMOS0VF6uZ0VeLrmL8CS5mOLnw2</td>\n",
       "      <td>46-55</td>\n",
       "      <td>Male</td>\n",
       "      <td>domain</td>\n",
       "      <td>1</td>\n",
       "      <td>26</td>\n",
       "      <td>9.629630</td>\n",
       "    </tr>\n",
       "    <tr>\n",
       "      <th>1</th>\n",
       "      <td>1SMOS0VF6uZ0VeLrmL8CS5mOLnw2</td>\n",
       "      <td>46-55</td>\n",
       "      <td>Male</td>\n",
       "      <td>practice</td>\n",
       "      <td>8</td>\n",
       "      <td>20</td>\n",
       "      <td>7.142857</td>\n",
       "    </tr>\n",
       "  </tbody>\n",
       "</table>\n",
       "</div>"
      ],
      "text/plain": [
       "correct                          user ageRange gender lagunasPhase  False  \\\n",
       "0        1SMOS0VF6uZ0VeLrmL8CS5mOLnw2    46-55   Male       domain      1   \n",
       "1        1SMOS0VF6uZ0VeLrmL8CS5mOLnw2    46-55   Male     practice      8   \n",
       "\n",
       "correct  True      nota  \n",
       "0          26  9.629630  \n",
       "1          20  7.142857  "
      ]
     },
     "execution_count": 85,
     "metadata": {},
     "output_type": "execute_result"
    }
   ],
   "source": [
    "\n",
    "#user_nota\n",
    "\n",
    "user_nota = a_questions_df.query(\"attemptNumber == 1\").groupby([\"user\", \"lagunasPhase\", \"ageRange\", \"gender\", \"correct\"], as_index=False)[\"question\"].count()\n",
    "\n",
    "user_nota = user_nota.pivot_table(index=[\"user\",\"ageRange\", \"gender\", \"lagunasPhase\"], \n",
    "                    columns=[\"correct\"], \n",
    "                    values='question',\n",
    "                    fill_value=0, \n",
    "                    aggfunc='sum').reset_index()\n",
    "\n",
    "\n",
    "# 4 = coluna True\n",
    "# 3 = coluna False\n",
    "\n",
    "\n",
    "\n",
    "user_nota[\"nota\"] = (user_nota.iloc[:,5] / (user_nota.iloc[:,5] + user_nota.iloc[:,4])) * 10\n",
    "\n",
    "\n",
    "user_nota.head(2)\n"
   ]
  },
  {
   "cell_type": "markdown",
   "id": "dcd3cab4",
   "metadata": {},
   "source": [
    "### Relação de notas dos jogadores por fase prática e de domínio e level"
   ]
  },
  {
   "cell_type": "code",
   "execution_count": 86,
   "id": "ad0e5e40",
   "metadata": {},
   "outputs": [
    {
     "data": {
      "text/html": [
       "<div>\n",
       "<style scoped>\n",
       "    .dataframe tbody tr th:only-of-type {\n",
       "        vertical-align: middle;\n",
       "    }\n",
       "\n",
       "    .dataframe tbody tr th {\n",
       "        vertical-align: top;\n",
       "    }\n",
       "\n",
       "    .dataframe thead th {\n",
       "        text-align: right;\n",
       "    }\n",
       "</style>\n",
       "<table border=\"1\" class=\"dataframe\">\n",
       "  <thead>\n",
       "    <tr style=\"text-align: right;\">\n",
       "      <th>correct</th>\n",
       "      <th>user</th>\n",
       "      <th>ageRange</th>\n",
       "      <th>gender</th>\n",
       "      <th>level</th>\n",
       "      <th>lagunasPhase</th>\n",
       "      <th>False</th>\n",
       "      <th>True</th>\n",
       "      <th>nota</th>\n",
       "    </tr>\n",
       "  </thead>\n",
       "  <tbody>\n",
       "    <tr>\n",
       "      <th>0</th>\n",
       "      <td>1SMOS0VF6uZ0VeLrmL8CS5mOLnw2</td>\n",
       "      <td>46-55</td>\n",
       "      <td>Male</td>\n",
       "      <td>1</td>\n",
       "      <td>domain</td>\n",
       "      <td>1</td>\n",
       "      <td>9</td>\n",
       "      <td>9.00</td>\n",
       "    </tr>\n",
       "    <tr>\n",
       "      <th>1</th>\n",
       "      <td>1SMOS0VF6uZ0VeLrmL8CS5mOLnw2</td>\n",
       "      <td>46-55</td>\n",
       "      <td>Male</td>\n",
       "      <td>1</td>\n",
       "      <td>practice</td>\n",
       "      <td>2</td>\n",
       "      <td>8</td>\n",
       "      <td>8.00</td>\n",
       "    </tr>\n",
       "    <tr>\n",
       "      <th>2</th>\n",
       "      <td>1SMOS0VF6uZ0VeLrmL8CS5mOLnw2</td>\n",
       "      <td>46-55</td>\n",
       "      <td>Male</td>\n",
       "      <td>2</td>\n",
       "      <td>domain</td>\n",
       "      <td>0</td>\n",
       "      <td>10</td>\n",
       "      <td>10.00</td>\n",
       "    </tr>\n",
       "    <tr>\n",
       "      <th>3</th>\n",
       "      <td>1SMOS0VF6uZ0VeLrmL8CS5mOLnw2</td>\n",
       "      <td>46-55</td>\n",
       "      <td>Male</td>\n",
       "      <td>2</td>\n",
       "      <td>practice</td>\n",
       "      <td>3</td>\n",
       "      <td>7</td>\n",
       "      <td>7.00</td>\n",
       "    </tr>\n",
       "    <tr>\n",
       "      <th>4</th>\n",
       "      <td>1SMOS0VF6uZ0VeLrmL8CS5mOLnw2</td>\n",
       "      <td>46-55</td>\n",
       "      <td>Male</td>\n",
       "      <td>3</td>\n",
       "      <td>domain</td>\n",
       "      <td>0</td>\n",
       "      <td>7</td>\n",
       "      <td>10.00</td>\n",
       "    </tr>\n",
       "    <tr>\n",
       "      <th>5</th>\n",
       "      <td>1SMOS0VF6uZ0VeLrmL8CS5mOLnw2</td>\n",
       "      <td>46-55</td>\n",
       "      <td>Male</td>\n",
       "      <td>3</td>\n",
       "      <td>practice</td>\n",
       "      <td>3</td>\n",
       "      <td>5</td>\n",
       "      <td>6.25</td>\n",
       "    </tr>\n",
       "  </tbody>\n",
       "</table>\n",
       "</div>"
      ],
      "text/plain": [
       "correct                          user ageRange gender level lagunasPhase  \\\n",
       "0        1SMOS0VF6uZ0VeLrmL8CS5mOLnw2    46-55   Male     1       domain   \n",
       "1        1SMOS0VF6uZ0VeLrmL8CS5mOLnw2    46-55   Male     1     practice   \n",
       "2        1SMOS0VF6uZ0VeLrmL8CS5mOLnw2    46-55   Male     2       domain   \n",
       "3        1SMOS0VF6uZ0VeLrmL8CS5mOLnw2    46-55   Male     2     practice   \n",
       "4        1SMOS0VF6uZ0VeLrmL8CS5mOLnw2    46-55   Male     3       domain   \n",
       "5        1SMOS0VF6uZ0VeLrmL8CS5mOLnw2    46-55   Male     3     practice   \n",
       "\n",
       "correct  False  True   nota  \n",
       "0            1     9   9.00  \n",
       "1            2     8   8.00  \n",
       "2            0    10  10.00  \n",
       "3            3     7   7.00  \n",
       "4            0     7  10.00  \n",
       "5            3     5   6.25  "
      ]
     },
     "execution_count": 86,
     "metadata": {},
     "output_type": "execute_result"
    }
   ],
   "source": [
    "#user_nota_level\n",
    "\n",
    "user_nota_level = a_questions_df.query(\"attemptNumber == 1\").groupby([\"user\", \"level\", \"lagunasPhase\", \"ageRange\", \"gender\", \"correct\"], as_index=False)[\"question\"].count()\n",
    "\n",
    "user_nota_level = user_nota_level.pivot_table(index=[\"user\", \"ageRange\", \"gender\", \"level\", \"lagunasPhase\"], \n",
    "                    columns=[\"correct\"], \n",
    "                    values='question',\n",
    "                    fill_value=0, \n",
    "                    aggfunc='sum').reset_index()\n",
    "\n",
    "user_nota_level[\"nota\"] = (user_nota_level.iloc[:,6] / (user_nota_level.iloc[:,6] + user_nota_level.iloc[:,5])) * 10\n",
    "\n",
    "user_nota_level.head(6)\n",
    "\n",
    "#user_nota_level.query(\"user =='c6yyrnc6SAVNAgeTUVNVdXACrBo2'\")"
   ]
  },
  {
   "cell_type": "markdown",
   "id": "d7d35fc8",
   "metadata": {},
   "source": [
    "# Relação de acerto e erro\n",
    "\n",
    "### Acerto e erro por nível"
   ]
  },
  {
   "cell_type": "code",
   "execution_count": 87,
   "metadata": {},
   "outputs": [
    {
     "data": {
      "text/html": [
       "<div>\n",
       "<style scoped>\n",
       "    .dataframe tbody tr th:only-of-type {\n",
       "        vertical-align: middle;\n",
       "    }\n",
       "\n",
       "    .dataframe tbody tr th {\n",
       "        vertical-align: top;\n",
       "    }\n",
       "\n",
       "    .dataframe thead th {\n",
       "        text-align: right;\n",
       "    }\n",
       "</style>\n",
       "<table border=\"1\" class=\"dataframe\">\n",
       "  <thead>\n",
       "    <tr style=\"text-align: right;\">\n",
       "      <th></th>\n",
       "      <th>level</th>\n",
       "      <th>correct</th>\n",
       "      <th>question</th>\n",
       "      <th>percent</th>\n",
       "    </tr>\n",
       "  </thead>\n",
       "  <tbody>\n",
       "    <tr>\n",
       "      <th>0</th>\n",
       "      <td>1</td>\n",
       "      <td>False</td>\n",
       "      <td>65</td>\n",
       "      <td>23.131673</td>\n",
       "    </tr>\n",
       "    <tr>\n",
       "      <th>1</th>\n",
       "      <td>1</td>\n",
       "      <td>True</td>\n",
       "      <td>216</td>\n",
       "      <td>76.868327</td>\n",
       "    </tr>\n",
       "    <tr>\n",
       "      <th>2</th>\n",
       "      <td>2</td>\n",
       "      <td>False</td>\n",
       "      <td>36</td>\n",
       "      <td>16.363636</td>\n",
       "    </tr>\n",
       "    <tr>\n",
       "      <th>3</th>\n",
       "      <td>2</td>\n",
       "      <td>True</td>\n",
       "      <td>184</td>\n",
       "      <td>83.636364</td>\n",
       "    </tr>\n",
       "    <tr>\n",
       "      <th>4</th>\n",
       "      <td>3</td>\n",
       "      <td>False</td>\n",
       "      <td>25</td>\n",
       "      <td>19.531250</td>\n",
       "    </tr>\n",
       "    <tr>\n",
       "      <th>5</th>\n",
       "      <td>3</td>\n",
       "      <td>True</td>\n",
       "      <td>103</td>\n",
       "      <td>80.468750</td>\n",
       "    </tr>\n",
       "  </tbody>\n",
       "</table>\n",
       "</div>"
      ],
      "text/plain": [
       "  level  correct  question    percent\n",
       "0     1    False        65  23.131673\n",
       "1     1     True       216  76.868327\n",
       "2     2    False        36  16.363636\n",
       "3     2     True       184  83.636364\n",
       "4     3    False        25  19.531250\n",
       "5     3     True       103  80.468750"
      ]
     },
     "execution_count": 87,
     "metadata": {},
     "output_type": "execute_result"
    }
   ],
   "source": [
    "#acerto_erro_by_nivel\n",
    "\n",
    "acerto_erro_by_nivel = a_questions_df.query(\"attemptNumber == 1\").groupby([\"level\", \"correct\"], as_index=False).agg({'question': 'count'})\n",
    "\n",
    "acerto_erro_by_nivel['percent'] =  acerto_erro_by_nivel['question'] / acerto_erro_by_nivel.groupby(['level'])['question'].transform('sum') * 100\n",
    "acerto_erro_by_nivel"
   ]
  },
  {
   "cell_type": "markdown",
   "id": "51160df4",
   "metadata": {},
   "source": [
    "### Acerto e erro por fase prática e de domínio"
   ]
  },
  {
   "cell_type": "code",
   "execution_count": 88,
   "id": "c885bc32",
   "metadata": {},
   "outputs": [
    {
     "data": {
      "text/html": [
       "<div>\n",
       "<style scoped>\n",
       "    .dataframe tbody tr th:only-of-type {\n",
       "        vertical-align: middle;\n",
       "    }\n",
       "\n",
       "    .dataframe tbody tr th {\n",
       "        vertical-align: top;\n",
       "    }\n",
       "\n",
       "    .dataframe thead th {\n",
       "        text-align: right;\n",
       "    }\n",
       "</style>\n",
       "<table border=\"1\" class=\"dataframe\">\n",
       "  <thead>\n",
       "    <tr style=\"text-align: right;\">\n",
       "      <th></th>\n",
       "      <th>lagunasPhase</th>\n",
       "      <th>correct</th>\n",
       "      <th>question</th>\n",
       "      <th>percent</th>\n",
       "    </tr>\n",
       "  </thead>\n",
       "  <tbody>\n",
       "    <tr>\n",
       "      <th>0</th>\n",
       "      <td>domain</td>\n",
       "      <td>False</td>\n",
       "      <td>20</td>\n",
       "      <td>6.369427</td>\n",
       "    </tr>\n",
       "    <tr>\n",
       "      <th>1</th>\n",
       "      <td>domain</td>\n",
       "      <td>True</td>\n",
       "      <td>294</td>\n",
       "      <td>93.630573</td>\n",
       "    </tr>\n",
       "    <tr>\n",
       "      <th>2</th>\n",
       "      <td>practice</td>\n",
       "      <td>False</td>\n",
       "      <td>106</td>\n",
       "      <td>33.650794</td>\n",
       "    </tr>\n",
       "    <tr>\n",
       "      <th>3</th>\n",
       "      <td>practice</td>\n",
       "      <td>True</td>\n",
       "      <td>209</td>\n",
       "      <td>66.349206</td>\n",
       "    </tr>\n",
       "  </tbody>\n",
       "</table>\n",
       "</div>"
      ],
      "text/plain": [
       "  lagunasPhase  correct  question    percent\n",
       "0       domain    False        20   6.369427\n",
       "1       domain     True       294  93.630573\n",
       "2     practice    False       106  33.650794\n",
       "3     practice     True       209  66.349206"
      ]
     },
     "execution_count": 88,
     "metadata": {},
     "output_type": "execute_result"
    }
   ],
   "source": [
    "#acerto_erro_by_phase\n",
    "\n",
    "acerto_erro_by_phase = a_questions_df.query(\"attemptNumber == 1\").groupby([\"lagunasPhase\", \"correct\"], as_index=False).agg({'question': 'count'})\n",
    "\n",
    "\n",
    "acerto_erro_by_phase['percent'] =  acerto_erro_by_phase['question'] / acerto_erro_by_phase.groupby(['lagunasPhase'])['question'].transform('sum') * 100\n",
    "acerto_erro_by_phase"
   ]
  },
  {
   "cell_type": "markdown",
   "id": "72976606",
   "metadata": {},
   "source": [
    "### Acerto e erro por fase e nível"
   ]
  },
  {
   "cell_type": "code",
   "execution_count": 89,
   "metadata": {},
   "outputs": [
    {
     "data": {
      "text/html": [
       "<div>\n",
       "<style scoped>\n",
       "    .dataframe tbody tr th:only-of-type {\n",
       "        vertical-align: middle;\n",
       "    }\n",
       "\n",
       "    .dataframe tbody tr th {\n",
       "        vertical-align: top;\n",
       "    }\n",
       "\n",
       "    .dataframe thead th {\n",
       "        text-align: right;\n",
       "    }\n",
       "</style>\n",
       "<table border=\"1\" class=\"dataframe\">\n",
       "  <thead>\n",
       "    <tr style=\"text-align: right;\">\n",
       "      <th></th>\n",
       "      <th>level</th>\n",
       "      <th>lagunasPhase</th>\n",
       "      <th>correct</th>\n",
       "      <th>question</th>\n",
       "      <th>percent</th>\n",
       "    </tr>\n",
       "  </thead>\n",
       "  <tbody>\n",
       "    <tr>\n",
       "      <th>0</th>\n",
       "      <td>1</td>\n",
       "      <td>domain</td>\n",
       "      <td>False</td>\n",
       "      <td>15</td>\n",
       "      <td>5.338078</td>\n",
       "    </tr>\n",
       "    <tr>\n",
       "      <th>1</th>\n",
       "      <td>1</td>\n",
       "      <td>domain</td>\n",
       "      <td>True</td>\n",
       "      <td>125</td>\n",
       "      <td>44.483986</td>\n",
       "    </tr>\n",
       "    <tr>\n",
       "      <th>2</th>\n",
       "      <td>1</td>\n",
       "      <td>practice</td>\n",
       "      <td>False</td>\n",
       "      <td>50</td>\n",
       "      <td>17.793594</td>\n",
       "    </tr>\n",
       "    <tr>\n",
       "      <th>3</th>\n",
       "      <td>1</td>\n",
       "      <td>practice</td>\n",
       "      <td>True</td>\n",
       "      <td>91</td>\n",
       "      <td>32.384342</td>\n",
       "    </tr>\n",
       "    <tr>\n",
       "      <th>4</th>\n",
       "      <td>2</td>\n",
       "      <td>domain</td>\n",
       "      <td>False</td>\n",
       "      <td>3</td>\n",
       "      <td>1.363636</td>\n",
       "    </tr>\n",
       "    <tr>\n",
       "      <th>5</th>\n",
       "      <td>2</td>\n",
       "      <td>domain</td>\n",
       "      <td>True</td>\n",
       "      <td>107</td>\n",
       "      <td>48.636364</td>\n",
       "    </tr>\n",
       "    <tr>\n",
       "      <th>6</th>\n",
       "      <td>2</td>\n",
       "      <td>practice</td>\n",
       "      <td>False</td>\n",
       "      <td>33</td>\n",
       "      <td>15.000000</td>\n",
       "    </tr>\n",
       "    <tr>\n",
       "      <th>7</th>\n",
       "      <td>2</td>\n",
       "      <td>practice</td>\n",
       "      <td>True</td>\n",
       "      <td>77</td>\n",
       "      <td>35.000000</td>\n",
       "    </tr>\n",
       "    <tr>\n",
       "      <th>8</th>\n",
       "      <td>3</td>\n",
       "      <td>domain</td>\n",
       "      <td>False</td>\n",
       "      <td>2</td>\n",
       "      <td>1.562500</td>\n",
       "    </tr>\n",
       "    <tr>\n",
       "      <th>9</th>\n",
       "      <td>3</td>\n",
       "      <td>domain</td>\n",
       "      <td>True</td>\n",
       "      <td>62</td>\n",
       "      <td>48.437500</td>\n",
       "    </tr>\n",
       "    <tr>\n",
       "      <th>10</th>\n",
       "      <td>3</td>\n",
       "      <td>practice</td>\n",
       "      <td>False</td>\n",
       "      <td>23</td>\n",
       "      <td>17.968750</td>\n",
       "    </tr>\n",
       "    <tr>\n",
       "      <th>11</th>\n",
       "      <td>3</td>\n",
       "      <td>practice</td>\n",
       "      <td>True</td>\n",
       "      <td>41</td>\n",
       "      <td>32.031250</td>\n",
       "    </tr>\n",
       "  </tbody>\n",
       "</table>\n",
       "</div>"
      ],
      "text/plain": [
       "   level lagunasPhase  correct  question    percent\n",
       "0      1       domain    False        15   5.338078\n",
       "1      1       domain     True       125  44.483986\n",
       "2      1     practice    False        50  17.793594\n",
       "3      1     practice     True        91  32.384342\n",
       "4      2       domain    False         3   1.363636\n",
       "5      2       domain     True       107  48.636364\n",
       "6      2     practice    False        33  15.000000\n",
       "7      2     practice     True        77  35.000000\n",
       "8      3       domain    False         2   1.562500\n",
       "9      3       domain     True        62  48.437500\n",
       "10     3     practice    False        23  17.968750\n",
       "11     3     practice     True        41  32.031250"
      ]
     },
     "execution_count": 89,
     "metadata": {},
     "output_type": "execute_result"
    }
   ],
   "source": [
    "#Taxa de acerto e erro por nível e mostrando a fase laguna\n",
    "\n",
    "acerto_erro_by_phase_level = a_questions_df.query(\"attemptNumber == 1\").groupby([\"level\", \"lagunasPhase\", \"correct\"], as_index=False).agg({'question': 'count'})\n",
    "\n",
    "\n",
    "acerto_erro_by_phase_level['percent'] =  acerto_erro_by_phase_level['question'] / acerto_erro_by_phase_level.groupby(['level'])['question'].transform('sum') * 100\n",
    "acerto_erro_by_phase_level"
   ]
  },
  {
   "cell_type": "markdown",
   "id": "e6ebd827",
   "metadata": {},
   "source": [
    "### Acerto e erro por faixa etária"
   ]
  },
  {
   "cell_type": "code",
   "execution_count": 90,
   "id": "d7d63b9b",
   "metadata": {},
   "outputs": [
    {
     "data": {
      "text/html": [
       "<div>\n",
       "<style scoped>\n",
       "    .dataframe tbody tr th:only-of-type {\n",
       "        vertical-align: middle;\n",
       "    }\n",
       "\n",
       "    .dataframe tbody tr th {\n",
       "        vertical-align: top;\n",
       "    }\n",
       "\n",
       "    .dataframe thead th {\n",
       "        text-align: right;\n",
       "    }\n",
       "</style>\n",
       "<table border=\"1\" class=\"dataframe\">\n",
       "  <thead>\n",
       "    <tr style=\"text-align: right;\">\n",
       "      <th></th>\n",
       "      <th>ageRange</th>\n",
       "      <th>correct</th>\n",
       "      <th>question</th>\n",
       "    </tr>\n",
       "  </thead>\n",
       "  <tbody>\n",
       "    <tr>\n",
       "      <th>0</th>\n",
       "      <td>1-18</td>\n",
       "      <td>False</td>\n",
       "      <td>30</td>\n",
       "    </tr>\n",
       "    <tr>\n",
       "      <th>1</th>\n",
       "      <td>1-18</td>\n",
       "      <td>True</td>\n",
       "      <td>133</td>\n",
       "    </tr>\n",
       "    <tr>\n",
       "      <th>2</th>\n",
       "      <td>18-25</td>\n",
       "      <td>False</td>\n",
       "      <td>71</td>\n",
       "    </tr>\n",
       "    <tr>\n",
       "      <th>3</th>\n",
       "      <td>18-25</td>\n",
       "      <td>True</td>\n",
       "      <td>246</td>\n",
       "    </tr>\n",
       "    <tr>\n",
       "      <th>4</th>\n",
       "      <td>26-35</td>\n",
       "      <td>False</td>\n",
       "      <td>16</td>\n",
       "    </tr>\n",
       "    <tr>\n",
       "      <th>5</th>\n",
       "      <td>26-35</td>\n",
       "      <td>True</td>\n",
       "      <td>78</td>\n",
       "    </tr>\n",
       "    <tr>\n",
       "      <th>6</th>\n",
       "      <td>46-55</td>\n",
       "      <td>False</td>\n",
       "      <td>9</td>\n",
       "    </tr>\n",
       "    <tr>\n",
       "      <th>7</th>\n",
       "      <td>46-55</td>\n",
       "      <td>True</td>\n",
       "      <td>46</td>\n",
       "    </tr>\n",
       "  </tbody>\n",
       "</table>\n",
       "</div>"
      ],
      "text/plain": [
       "  ageRange  correct  question\n",
       "0     1-18    False        30\n",
       "1     1-18     True       133\n",
       "2    18-25    False        71\n",
       "3    18-25     True       246\n",
       "4    26-35    False        16\n",
       "5    26-35     True        78\n",
       "6    46-55    False         9\n",
       "7    46-55     True        46"
      ]
     },
     "execution_count": 90,
     "metadata": {},
     "output_type": "execute_result"
    }
   ],
   "source": [
    "acerto_erro_by_age_range = a_questions_df.query(\"attemptNumber == 1\").groupby([\"ageRange\", \"correct\"], as_index=False).agg({'question': 'count'})\n",
    "acerto_erro_by_age_range\n"
   ]
  },
  {
   "cell_type": "markdown",
   "id": "a6df1330",
   "metadata": {},
   "source": [
    "### Acerto e erro por gênero"
   ]
  },
  {
   "cell_type": "code",
   "execution_count": 91,
   "id": "cfd014bf",
   "metadata": {},
   "outputs": [
    {
     "data": {
      "text/html": [
       "<div>\n",
       "<style scoped>\n",
       "    .dataframe tbody tr th:only-of-type {\n",
       "        vertical-align: middle;\n",
       "    }\n",
       "\n",
       "    .dataframe tbody tr th {\n",
       "        vertical-align: top;\n",
       "    }\n",
       "\n",
       "    .dataframe thead th {\n",
       "        text-align: right;\n",
       "    }\n",
       "</style>\n",
       "<table border=\"1\" class=\"dataframe\">\n",
       "  <thead>\n",
       "    <tr style=\"text-align: right;\">\n",
       "      <th></th>\n",
       "      <th>gender</th>\n",
       "      <th>correct</th>\n",
       "      <th>question</th>\n",
       "    </tr>\n",
       "  </thead>\n",
       "  <tbody>\n",
       "    <tr>\n",
       "      <th>0</th>\n",
       "      <td>Female</td>\n",
       "      <td>False</td>\n",
       "      <td>73</td>\n",
       "    </tr>\n",
       "    <tr>\n",
       "      <th>1</th>\n",
       "      <td>Female</td>\n",
       "      <td>True</td>\n",
       "      <td>238</td>\n",
       "    </tr>\n",
       "    <tr>\n",
       "      <th>2</th>\n",
       "      <td>Male</td>\n",
       "      <td>False</td>\n",
       "      <td>53</td>\n",
       "    </tr>\n",
       "    <tr>\n",
       "      <th>3</th>\n",
       "      <td>Male</td>\n",
       "      <td>True</td>\n",
       "      <td>265</td>\n",
       "    </tr>\n",
       "  </tbody>\n",
       "</table>\n",
       "</div>"
      ],
      "text/plain": [
       "   gender  correct  question\n",
       "0  Female    False        73\n",
       "1  Female     True       238\n",
       "2    Male    False        53\n",
       "3    Male     True       265"
      ]
     },
     "execution_count": 91,
     "metadata": {},
     "output_type": "execute_result"
    }
   ],
   "source": [
    "acerto_erro_by_gender = a_questions_df.query(\"attemptNumber == 1\").groupby([\"gender\", \"correct\"], as_index=False).agg({'question': 'count'})\n",
    "acerto_erro_by_gender"
   ]
  },
  {
   "cell_type": "markdown",
   "id": "d6f6f1cc",
   "metadata": {},
   "source": [
    "# Porcentagem de acerto e erro por questão"
   ]
  },
  {
   "cell_type": "code",
   "execution_count": 92,
   "id": "bebbe681",
   "metadata": {},
   "outputs": [
    {
     "data": {
      "text/html": [
       "<div>\n",
       "<style scoped>\n",
       "    .dataframe tbody tr th:only-of-type {\n",
       "        vertical-align: middle;\n",
       "    }\n",
       "\n",
       "    .dataframe tbody tr th {\n",
       "        vertical-align: top;\n",
       "    }\n",
       "\n",
       "    .dataframe thead th {\n",
       "        text-align: right;\n",
       "    }\n",
       "</style>\n",
       "<table border=\"1\" class=\"dataframe\">\n",
       "  <thead>\n",
       "    <tr style=\"text-align: right;\">\n",
       "      <th>correct</th>\n",
       "      <th>question</th>\n",
       "      <th>erradas</th>\n",
       "      <th>corretas</th>\n",
       "      <th>% corretas</th>\n",
       "      <th>% erradas</th>\n",
       "      <th>total de perguntas</th>\n",
       "    </tr>\n",
       "  </thead>\n",
       "  <tbody>\n",
       "    <tr>\n",
       "      <th>0</th>\n",
       "      <td>2</td>\n",
       "      <td>4</td>\n",
       "      <td>24</td>\n",
       "      <td>85.714286</td>\n",
       "      <td>14.285714</td>\n",
       "      <td>28</td>\n",
       "    </tr>\n",
       "    <tr>\n",
       "      <th>1</th>\n",
       "      <td>3</td>\n",
       "      <td>8</td>\n",
       "      <td>20</td>\n",
       "      <td>71.428571</td>\n",
       "      <td>28.571429</td>\n",
       "      <td>28</td>\n",
       "    </tr>\n",
       "    <tr>\n",
       "      <th>2</th>\n",
       "      <td>4</td>\n",
       "      <td>2</td>\n",
       "      <td>26</td>\n",
       "      <td>92.857143</td>\n",
       "      <td>7.142857</td>\n",
       "      <td>28</td>\n",
       "    </tr>\n",
       "  </tbody>\n",
       "</table>\n",
       "</div>"
      ],
      "text/plain": [
       "correct  question  erradas  corretas  % corretas  % erradas  \\\n",
       "0               2        4        24   85.714286  14.285714   \n",
       "1               3        8        20   71.428571  28.571429   \n",
       "2               4        2        26   92.857143   7.142857   \n",
       "\n",
       "correct  total de perguntas  \n",
       "0                        28  \n",
       "1                        28  \n",
       "2                        28  "
      ]
     },
     "execution_count": 92,
     "metadata": {},
     "output_type": "execute_result"
    }
   ],
   "source": [
    "#questions_percentage\n",
    "\n",
    "questions_percentage = a_questions_df.query(\"attemptNumber == 1\").groupby([\"question\", \"correct\"], as_index=False)[\"text\"].count().rename(columns={\"text\": \"count\"})\n",
    "\n",
    "\n",
    "questions_percentage = questions_percentage.pivot_table(index=[\"question\"], \n",
    "                    columns=[\"correct\"], \n",
    "                    values='count',\n",
    "                    fill_value=0, \n",
    "                    aggfunc='sum').reset_index()\n",
    "\n",
    "questions_percentage.rename(columns={ questions_percentage.columns[2]: \"corretas\" }, inplace = True)\n",
    "questions_percentage.rename(columns={ questions_percentage.columns[1]: \"erradas\" }, inplace = True)\n",
    "\n",
    "\n",
    "questions_percentage[\"% corretas\"] = (questions_percentage[\"corretas\"] * 100 / (questions_percentage[\"corretas\"] + questions_percentage[\"erradas\"]))\n",
    "questions_percentage[\"% erradas\"] = (questions_percentage[\"erradas\"] * 100 / (questions_percentage[\"corretas\"] + questions_percentage[\"erradas\"]))\n",
    "questions_percentage[\"total de perguntas\"] = questions_percentage[\"erradas\"]  + questions_percentage[\"corretas\"] \n",
    "\n",
    "questions_percentage.head(3)"
   ]
  },
  {
   "cell_type": "markdown",
   "id": "a9e68203",
   "metadata": {},
   "source": [
    "# Classificação de perfis de acordo com a metodologia Serrano-Laguna"
   ]
  },
  {
   "cell_type": "code",
   "execution_count": 93,
   "id": "19732677",
   "metadata": {},
   "outputs": [
    {
     "data": {
      "text/html": [
       "<div>\n",
       "<style scoped>\n",
       "    .dataframe tbody tr th:only-of-type {\n",
       "        vertical-align: middle;\n",
       "    }\n",
       "\n",
       "    .dataframe tbody tr th {\n",
       "        vertical-align: top;\n",
       "    }\n",
       "\n",
       "    .dataframe thead th {\n",
       "        text-align: right;\n",
       "    }\n",
       "</style>\n",
       "<table border=\"1\" class=\"dataframe\">\n",
       "  <thead>\n",
       "    <tr style=\"text-align: right;\">\n",
       "      <th></th>\n",
       "      <th>lagunasPhase</th>\n",
       "      <th>domain</th>\n",
       "      <th>practice</th>\n",
       "      <th>classification</th>\n",
       "    </tr>\n",
       "    <tr>\n",
       "      <th>user</th>\n",
       "      <th>ageRange</th>\n",
       "      <th></th>\n",
       "      <th></th>\n",
       "      <th></th>\n",
       "    </tr>\n",
       "  </thead>\n",
       "  <tbody>\n",
       "    <tr>\n",
       "      <th>1SMOS0VF6uZ0VeLrmL8CS5mOLnw2</th>\n",
       "      <th>46-55</th>\n",
       "      <td>9.629630</td>\n",
       "      <td>7.142857</td>\n",
       "      <td>master</td>\n",
       "    </tr>\n",
       "    <tr>\n",
       "      <th>2oh7qd25jNSrFcLrxGlVtAl5hvk1</th>\n",
       "      <th>18-25</th>\n",
       "      <td>6.666667</td>\n",
       "      <td>5.185185</td>\n",
       "      <td>non-learner</td>\n",
       "    </tr>\n",
       "    <tr>\n",
       "      <th>BJPHmgFSwpMSOkUVslu46yXK68U2</th>\n",
       "      <th>18-25</th>\n",
       "      <td>10.000000</td>\n",
       "      <td>7.407407</td>\n",
       "      <td>master</td>\n",
       "    </tr>\n",
       "  </tbody>\n",
       "</table>\n",
       "</div>"
      ],
      "text/plain": [
       "lagunasPhase                              domain  practice classification\n",
       "user                         ageRange                                    \n",
       "1SMOS0VF6uZ0VeLrmL8CS5mOLnw2 46-55      9.629630  7.142857         master\n",
       "2oh7qd25jNSrFcLrxGlVtAl5hvk1 18-25      6.666667  5.185185    non-learner\n",
       "BJPHmgFSwpMSOkUVslu46yXK68U2 18-25     10.000000  7.407407         master"
      ]
     },
     "execution_count": 93,
     "metadata": {},
     "output_type": "execute_result"
    }
   ],
   "source": [
    "#Definição de perfis laguna\n",
    "#IT = 6\n",
    "#FT = 8\n",
    "\n",
    "\n",
    "it = 7\n",
    "ft = 8\n",
    "# FA >= FT ==> \n",
    "def classifier(row):\n",
    "    if row[\"domain\"] >= ft:\n",
    "            if row[\"practice\"] < it:\n",
    "                  return \"learner\"\n",
    "            else:\n",
    "                  return \"master\"\n",
    "    else:\n",
    "            if row[\"practice\"] < it:\n",
    "                  return \"non-learner\"\n",
    "            else:\n",
    "                  return \"outlier\"\n",
    "\n",
    "user_nota_classification = user_nota.pivot(index=[\"user\", \"ageRange\"], columns=[\"lagunasPhase\"], values=\"nota\")\n",
    "user_nota_classification[\"classification\"] = user_nota_classification.apply(classifier, axis=1)\n",
    "\n",
    "user_nota_classification.head(3)\n"
   ]
  },
  {
   "cell_type": "markdown",
   "id": "d9e11b85",
   "metadata": {},
   "source": [
    "### Gráfico com a clasificação geral"
   ]
  },
  {
   "cell_type": "code",
   "execution_count": 94,
   "id": "217e6208",
   "metadata": {},
   "outputs": [
    {
     "data": {
      "text/plain": [
       "<Axes: ylabel='count'>"
      ]
     },
     "execution_count": 94,
     "metadata": {},
     "output_type": "execute_result"
    },
    {
     "data": {
      "image/png": "[encoded data removed]",
      "text/plain": [
       "<Figure size 600x600 with 1 Axes>"
      ]
     },
     "metadata": {},
     "output_type": "display_data"
    }
   ],
   "source": [
    "#Plot Grafico\n",
    "user_nota_classification[\"classification\"].value_counts().plot.pie(figsize=(6, 6), autopct=\"%.2f\")"
   ]
  },
  {
   "cell_type": "code",
   "execution_count": 95,
   "metadata": {},
   "outputs": [
    {
     "data": {
      "text/html": [
       "<div>\n",
       "<style scoped>\n",
       "    .dataframe tbody tr th:only-of-type {\n",
       "        vertical-align: middle;\n",
       "    }\n",
       "\n",
       "    .dataframe tbody tr th {\n",
       "        vertical-align: top;\n",
       "    }\n",
       "\n",
       "    .dataframe thead th {\n",
       "        text-align: right;\n",
       "    }\n",
       "</style>\n",
       "<table border=\"1\" class=\"dataframe\">\n",
       "  <thead>\n",
       "    <tr style=\"text-align: right;\">\n",
       "      <th>lagunasPhase</th>\n",
       "      <th>user</th>\n",
       "      <th>level</th>\n",
       "      <th>domain</th>\n",
       "      <th>practice</th>\n",
       "      <th>classification</th>\n",
       "    </tr>\n",
       "  </thead>\n",
       "  <tbody>\n",
       "    <tr>\n",
       "      <th>0</th>\n",
       "      <td>1SMOS0VF6uZ0VeLrmL8CS5mOLnw2</td>\n",
       "      <td>1</td>\n",
       "      <td>9.000000</td>\n",
       "      <td>8.000000</td>\n",
       "      <td>master</td>\n",
       "    </tr>\n",
       "    <tr>\n",
       "      <th>1</th>\n",
       "      <td>1SMOS0VF6uZ0VeLrmL8CS5mOLnw2</td>\n",
       "      <td>2</td>\n",
       "      <td>10.000000</td>\n",
       "      <td>7.000000</td>\n",
       "      <td>master</td>\n",
       "    </tr>\n",
       "    <tr>\n",
       "      <th>2</th>\n",
       "      <td>1SMOS0VF6uZ0VeLrmL8CS5mOLnw2</td>\n",
       "      <td>3</td>\n",
       "      <td>10.000000</td>\n",
       "      <td>6.250000</td>\n",
       "      <td>learner</td>\n",
       "    </tr>\n",
       "    <tr>\n",
       "      <th>3</th>\n",
       "      <td>2oh7qd25jNSrFcLrxGlVtAl5hvk1</td>\n",
       "      <td>1</td>\n",
       "      <td>4.000000</td>\n",
       "      <td>3.000000</td>\n",
       "      <td>non-learner</td>\n",
       "    </tr>\n",
       "    <tr>\n",
       "      <th>4</th>\n",
       "      <td>2oh7qd25jNSrFcLrxGlVtAl5hvk1</td>\n",
       "      <td>2</td>\n",
       "      <td>8.000000</td>\n",
       "      <td>7.000000</td>\n",
       "      <td>master</td>\n",
       "    </tr>\n",
       "    <tr>\n",
       "      <th>5</th>\n",
       "      <td>2oh7qd25jNSrFcLrxGlVtAl5hvk1</td>\n",
       "      <td>3</td>\n",
       "      <td>8.571429</td>\n",
       "      <td>5.714286</td>\n",
       "      <td>learner</td>\n",
       "    </tr>\n",
       "    <tr>\n",
       "      <th>6</th>\n",
       "      <td>BJPHmgFSwpMSOkUVslu46yXK68U2</td>\n",
       "      <td>1</td>\n",
       "      <td>10.000000</td>\n",
       "      <td>6.000000</td>\n",
       "      <td>learner</td>\n",
       "    </tr>\n",
       "    <tr>\n",
       "      <th>7</th>\n",
       "      <td>BJPHmgFSwpMSOkUVslu46yXK68U2</td>\n",
       "      <td>2</td>\n",
       "      <td>10.000000</td>\n",
       "      <td>8.000000</td>\n",
       "      <td>master</td>\n",
       "    </tr>\n",
       "    <tr>\n",
       "      <th>8</th>\n",
       "      <td>BJPHmgFSwpMSOkUVslu46yXK68U2</td>\n",
       "      <td>3</td>\n",
       "      <td>10.000000</td>\n",
       "      <td>8.571429</td>\n",
       "      <td>master</td>\n",
       "    </tr>\n",
       "  </tbody>\n",
       "</table>\n",
       "</div>"
      ],
      "text/plain": [
       "lagunasPhase                          user level     domain  practice  \\\n",
       "0             1SMOS0VF6uZ0VeLrmL8CS5mOLnw2     1   9.000000  8.000000   \n",
       "1             1SMOS0VF6uZ0VeLrmL8CS5mOLnw2     2  10.000000  7.000000   \n",
       "2             1SMOS0VF6uZ0VeLrmL8CS5mOLnw2     3  10.000000  6.250000   \n",
       "3             2oh7qd25jNSrFcLrxGlVtAl5hvk1     1   4.000000  3.000000   \n",
       "4             2oh7qd25jNSrFcLrxGlVtAl5hvk1     2   8.000000  7.000000   \n",
       "5             2oh7qd25jNSrFcLrxGlVtAl5hvk1     3   8.571429  5.714286   \n",
       "6             BJPHmgFSwpMSOkUVslu46yXK68U2     1  10.000000  6.000000   \n",
       "7             BJPHmgFSwpMSOkUVslu46yXK68U2     2  10.000000  8.000000   \n",
       "8             BJPHmgFSwpMSOkUVslu46yXK68U2     3  10.000000  8.571429   \n",
       "\n",
       "lagunasPhase classification  \n",
       "0                    master  \n",
       "1                    master  \n",
       "2                   learner  \n",
       "3               non-learner  \n",
       "4                    master  \n",
       "5                   learner  \n",
       "6                   learner  \n",
       "7                    master  \n",
       "8                    master  "
      ]
     },
     "execution_count": 95,
     "metadata": {},
     "output_type": "execute_result"
    }
   ],
   "source": [
    "#user_nota_classification_level\n",
    "\n",
    "user_nota_classification_level = user_nota_level.pivot(index=[\"user\", \"level\"], columns=\"lagunasPhase\", values=\"nota\").reset_index()\n",
    "user_nota_classification_level[\"classification\"] =  user_nota_classification_level.apply(classifier, axis=1)\n",
    "user_nota_classification_level.head(9)"
   ]
  },
  {
   "cell_type": "markdown",
   "id": "e9a1b407",
   "metadata": {},
   "source": [
    "### Gráfico com a clasificação por nível"
   ]
  },
  {
   "cell_type": "code",
   "execution_count": 96,
   "id": "7b48b58b",
   "metadata": {},
   "outputs": [
    {
     "data": {
      "text/html": [
       "<div>\n",
       "<style scoped>\n",
       "    .dataframe tbody tr th:only-of-type {\n",
       "        vertical-align: middle;\n",
       "    }\n",
       "\n",
       "    .dataframe tbody tr th {\n",
       "        vertical-align: top;\n",
       "    }\n",
       "\n",
       "    .dataframe thead th {\n",
       "        text-align: right;\n",
       "    }\n",
       "</style>\n",
       "<table border=\"1\" class=\"dataframe\">\n",
       "  <thead>\n",
       "    <tr style=\"text-align: right;\">\n",
       "      <th>level</th>\n",
       "      <th>1</th>\n",
       "      <th>2</th>\n",
       "      <th>3</th>\n",
       "    </tr>\n",
       "    <tr>\n",
       "      <th>classification</th>\n",
       "      <th></th>\n",
       "      <th></th>\n",
       "      <th></th>\n",
       "    </tr>\n",
       "  </thead>\n",
       "  <tbody>\n",
       "    <tr>\n",
       "      <th>learner</th>\n",
       "      <td>7</td>\n",
       "      <td>3</td>\n",
       "      <td>5</td>\n",
       "    </tr>\n",
       "    <tr>\n",
       "      <th>master</th>\n",
       "      <td>6</td>\n",
       "      <td>8</td>\n",
       "      <td>4</td>\n",
       "    </tr>\n",
       "    <tr>\n",
       "      <th>non-learner</th>\n",
       "      <td>1</td>\n",
       "      <td>0</td>\n",
       "      <td>0</td>\n",
       "    </tr>\n",
       "  </tbody>\n",
       "</table>\n",
       "</div>"
      ],
      "text/plain": [
       "level           1  2  3\n",
       "classification         \n",
       "learner         7  3  5\n",
       "master          6  8  4\n",
       "non-learner     1  0  0"
      ]
     },
     "execution_count": 96,
     "metadata": {},
     "output_type": "execute_result"
    }
   ],
   "source": [
    "#user_nota_classification_level_reshaped\n",
    "\n",
    "user_nota_classification_level_reshaped = user_nota_classification_level.drop([\"domain\", \"practice\"], axis=1)\n",
    "\n",
    "user_nota_classification_level_reshaped = user_nota_classification_level_reshaped.groupby([\"level\", \"classification\"]).count().reset_index()\n",
    "\n",
    "user_nota_classification_level_reshaped = pd.pivot_table(user_nota_classification_level_reshaped, index = \"classification\", columns=\"level\", values=\"user\", fill_value=0)\n",
    "\n",
    "user_nota_classification_level_reshaped\n",
    "\n"
   ]
  },
  {
   "cell_type": "code",
   "execution_count": 97,
   "id": "a3d3e0b7",
   "metadata": {},
   "outputs": [
    {
     "data": {
      "text/plain": [
       "array([<Axes: ylabel='1'>, <Axes: ylabel='2'>, <Axes: ylabel='3'>],\n",
       "      dtype=object)"
      ]
     },
     "execution_count": 97,
     "metadata": {},
     "output_type": "execute_result"
    },
    {
     "data": {
      "image/png": "[encoded data removed]",
      "text/plain": [
       "<Figure size 2000x1000 with 3 Axes>"
      ]
     },
     "metadata": {},
     "output_type": "display_data"
    }
   ],
   "source": [
    "#Plot Grafico\n",
    "\n",
    "user_nota_classification_level_reshaped.plot.pie(subplots=True,figsize=(20, 10), autopct=\"%.2f\")"
   ]
  },
  {
   "cell_type": "markdown",
   "id": "2578c5fe",
   "metadata": {},
   "source": [
    "### Gráfico com a classificação por faixa etária"
   ]
  },
  {
   "cell_type": "code",
   "execution_count": 98,
   "id": "e0934380",
   "metadata": {},
   "outputs": [
    {
     "data": {
      "text/html": [
       "<div>\n",
       "<style scoped>\n",
       "    .dataframe tbody tr th:only-of-type {\n",
       "        vertical-align: middle;\n",
       "    }\n",
       "\n",
       "    .dataframe tbody tr th {\n",
       "        vertical-align: top;\n",
       "    }\n",
       "\n",
       "    .dataframe thead th {\n",
       "        text-align: right;\n",
       "    }\n",
       "</style>\n",
       "<table border=\"1\" class=\"dataframe\">\n",
       "  <thead>\n",
       "    <tr style=\"text-align: right;\">\n",
       "      <th>ageRange</th>\n",
       "      <th>1-18</th>\n",
       "      <th>18-25</th>\n",
       "      <th>26-35</th>\n",
       "      <th>46-55</th>\n",
       "    </tr>\n",
       "    <tr>\n",
       "      <th>classification</th>\n",
       "      <th></th>\n",
       "      <th></th>\n",
       "      <th></th>\n",
       "      <th></th>\n",
       "    </tr>\n",
       "  </thead>\n",
       "  <tbody>\n",
       "    <tr>\n",
       "      <th>learner</th>\n",
       "      <td>2</td>\n",
       "      <td>4</td>\n",
       "      <td>0</td>\n",
       "      <td>0</td>\n",
       "    </tr>\n",
       "    <tr>\n",
       "      <th>master</th>\n",
       "      <td>1</td>\n",
       "      <td>3</td>\n",
       "      <td>2</td>\n",
       "      <td>1</td>\n",
       "    </tr>\n",
       "    <tr>\n",
       "      <th>non-learner</th>\n",
       "      <td>0</td>\n",
       "      <td>1</td>\n",
       "      <td>0</td>\n",
       "      <td>0</td>\n",
       "    </tr>\n",
       "  </tbody>\n",
       "</table>\n",
       "</div>"
      ],
      "text/plain": [
       "ageRange        1-18  18-25  26-35  46-55\n",
       "classification                           \n",
       "learner            2      4      0      0\n",
       "master             1      3      2      1\n",
       "non-learner        0      1      0      0"
      ]
     },
     "execution_count": 98,
     "metadata": {},
     "output_type": "execute_result"
    }
   ],
   "source": [
    "user_nota_classification_age_range = user_nota.pivot(index=[\"user\",  \"ageRange\"], columns=[\"lagunasPhase\"], values=\"nota\").reset_index()\n",
    "user_nota_classification_age_range[\"classification\"] =  user_nota_classification_age_range.apply(classifier, axis=1)\n",
    "user_nota_classification_age_range = user_nota_classification_age_range.drop([\"domain\", \"practice\"], axis=1)\n",
    "user_nota_classification_age_range = user_nota_classification_age_range.groupby([\"ageRange\", \"classification\"]).count().reset_index()\n",
    "\n",
    "user_nota_classification_age_range = pd.pivot_table(user_nota_classification_age_range, index = \"classification\", columns=\"ageRange\", values=\"user\", fill_value=0)\n",
    "user_nota_classification_age_range"
   ]
  },
  {
   "cell_type": "code",
   "execution_count": 99,
   "id": "7968cac6",
   "metadata": {},
   "outputs": [
    {
     "data": {
      "text/plain": [
       "array([<Axes: title={'center': '1-18'}, xlabel='classification'>,\n",
       "       <Axes: title={'center': '18-25'}, xlabel='classification'>,\n",
       "       <Axes: title={'center': '26-35'}, xlabel='classification'>,\n",
       "       <Axes: title={'center': '46-55'}, xlabel='classification'>],\n",
       "      dtype=object)"
      ]
     },
     "execution_count": 99,
     "metadata": {},
     "output_type": "execute_result"
    },
    {
     "data": {
      "image/png": "[encoded data removed]",
      "text/plain": [
       "<Figure size 300x1000 with 4 Axes>"
      ]
     },
     "metadata": {},
     "output_type": "display_data"
    }
   ],
   "source": [
    "user_nota_classification_age_range.plot.bar(subplots=True, figsize=(3, 10), rot=0)"
   ]
  },
  {
   "cell_type": "markdown",
   "id": "e49abb6a",
   "metadata": {},
   "source": [
    "### Relação por gênero"
   ]
  },
  {
   "cell_type": "code",
   "execution_count": 100,
   "id": "94bfe182",
   "metadata": {},
   "outputs": [
    {
     "data": {
      "text/html": [
       "<div>\n",
       "<style scoped>\n",
       "    .dataframe tbody tr th:only-of-type {\n",
       "        vertical-align: middle;\n",
       "    }\n",
       "\n",
       "    .dataframe tbody tr th {\n",
       "        vertical-align: top;\n",
       "    }\n",
       "\n",
       "    .dataframe thead th {\n",
       "        text-align: right;\n",
       "    }\n",
       "</style>\n",
       "<table border=\"1\" class=\"dataframe\">\n",
       "  <thead>\n",
       "    <tr style=\"text-align: right;\">\n",
       "      <th>gender</th>\n",
       "      <th>Female</th>\n",
       "      <th>Male</th>\n",
       "    </tr>\n",
       "    <tr>\n",
       "      <th>classification</th>\n",
       "      <th></th>\n",
       "      <th></th>\n",
       "    </tr>\n",
       "  </thead>\n",
       "  <tbody>\n",
       "    <tr>\n",
       "      <th>learner</th>\n",
       "      <td>3</td>\n",
       "      <td>3</td>\n",
       "    </tr>\n",
       "    <tr>\n",
       "      <th>master</th>\n",
       "      <td>2</td>\n",
       "      <td>5</td>\n",
       "    </tr>\n",
       "    <tr>\n",
       "      <th>non-learner</th>\n",
       "      <td>1</td>\n",
       "      <td>0</td>\n",
       "    </tr>\n",
       "  </tbody>\n",
       "</table>\n",
       "</div>"
      ],
      "text/plain": [
       "gender          Female  Male\n",
       "classification              \n",
       "learner              3     3\n",
       "master               2     5\n",
       "non-learner          1     0"
      ]
     },
     "execution_count": 100,
     "metadata": {},
     "output_type": "execute_result"
    }
   ],
   "source": [
    "user_nota_classification_gender = user_nota.pivot(index=[\"user\",  \"gender\"], columns=[\"lagunasPhase\"], values=\"nota\").reset_index()\n",
    "user_nota_classification_gender[\"classification\"] =  user_nota_classification_gender.apply(classifier, axis=1)\n",
    "user_nota_classification_gender = user_nota_classification_gender.drop([\"domain\", \"practice\"], axis=1)\n",
    "user_nota_classification_gender = user_nota_classification_gender.groupby([\"gender\", \"classification\"]).count().reset_index()\n",
    "\n",
    "user_nota_classification_gender = pd.pivot_table(user_nota_classification_gender, index = \"classification\", columns=\"gender\", values=\"user\", fill_value=0)\n",
    "user_nota_classification_gender"
   ]
  },
  {
   "cell_type": "code",
   "execution_count": 101,
   "id": "e2c1b601",
   "metadata": {},
   "outputs": [
    {
     "data": {
      "text/plain": [
       "array([<Axes: title={'center': 'Female'}, xlabel='classification'>,\n",
       "       <Axes: title={'center': 'Male'}, xlabel='classification'>],\n",
       "      dtype=object)"
      ]
     },
     "execution_count": 101,
     "metadata": {},
     "output_type": "execute_result"
    },
    {
     "data": {
      "image/png": "[encoded data removed]",
      "text/plain": [
       "<Figure size 300x1000 with 2 Axes>"
      ]
     },
     "metadata": {},
     "output_type": "display_data"
    }
   ],
   "source": [
    "user_nota_classification_gender.plot.bar(subplots=True, figsize=(3, 10), rot=0)"
   ]
  },
  {
   "cell_type": "markdown",
   "id": "675417eb",
   "metadata": {},
   "source": [
    "# Relação de tempo entre perguntas"
   ]
  },
  {
   "cell_type": "code",
   "execution_count": 102,
   "id": "eca1641b",
   "metadata": {},
   "outputs": [],
   "source": [
    "a_questions_df[\"averageSecondsBwQuestions\"] = a_questions_df.groupby(['user', 'level', 'lagunasPhase'])['lastUpdated'].diff().dt.seconds\n"
   ]
  },
  {
   "cell_type": "markdown",
   "id": "9cd4dca6",
   "metadata": {},
   "source": [
    "### Relação de tempo entre perguntas por nível e fase (prática/domínio)"
   ]
  },
  {
   "cell_type": "code",
   "execution_count": 103,
   "id": "de18a820",
   "metadata": {},
   "outputs": [
    {
     "data": {
      "text/html": [
       "<div>\n",
       "<style scoped>\n",
       "    .dataframe tbody tr th:only-of-type {\n",
       "        vertical-align: middle;\n",
       "    }\n",
       "\n",
       "    .dataframe tbody tr th {\n",
       "        vertical-align: top;\n",
       "    }\n",
       "\n",
       "    .dataframe thead th {\n",
       "        text-align: right;\n",
       "    }\n",
       "</style>\n",
       "<table border=\"1\" class=\"dataframe\">\n",
       "  <thead>\n",
       "    <tr style=\"text-align: right;\">\n",
       "      <th></th>\n",
       "      <th>user</th>\n",
       "      <th>level</th>\n",
       "      <th>lagunasPhase</th>\n",
       "      <th>averageSecondsBwQuestions</th>\n",
       "    </tr>\n",
       "  </thead>\n",
       "  <tbody>\n",
       "    <tr>\n",
       "      <th>0</th>\n",
       "      <td>1SMOS0VF6uZ0VeLrmL8CS5mOLnw2</td>\n",
       "      <td>1</td>\n",
       "      <td>domain</td>\n",
       "      <td>10.444444</td>\n",
       "    </tr>\n",
       "    <tr>\n",
       "      <th>1</th>\n",
       "      <td>1SMOS0VF6uZ0VeLrmL8CS5mOLnw2</td>\n",
       "      <td>1</td>\n",
       "      <td>practice</td>\n",
       "      <td>23.333333</td>\n",
       "    </tr>\n",
       "    <tr>\n",
       "      <th>2</th>\n",
       "      <td>1SMOS0VF6uZ0VeLrmL8CS5mOLnw2</td>\n",
       "      <td>2</td>\n",
       "      <td>domain</td>\n",
       "      <td>11.666667</td>\n",
       "    </tr>\n",
       "    <tr>\n",
       "      <th>3</th>\n",
       "      <td>1SMOS0VF6uZ0VeLrmL8CS5mOLnw2</td>\n",
       "      <td>2</td>\n",
       "      <td>practice</td>\n",
       "      <td>19.000000</td>\n",
       "    </tr>\n",
       "    <tr>\n",
       "      <th>4</th>\n",
       "      <td>1SMOS0VF6uZ0VeLrmL8CS5mOLnw2</td>\n",
       "      <td>3</td>\n",
       "      <td>domain</td>\n",
       "      <td>16.166667</td>\n",
       "    </tr>\n",
       "    <tr>\n",
       "      <th>5</th>\n",
       "      <td>1SMOS0VF6uZ0VeLrmL8CS5mOLnw2</td>\n",
       "      <td>3</td>\n",
       "      <td>practice</td>\n",
       "      <td>27.285714</td>\n",
       "    </tr>\n",
       "  </tbody>\n",
       "</table>\n",
       "</div>"
      ],
      "text/plain": [
       "                           user level lagunasPhase  averageSecondsBwQuestions\n",
       "0  1SMOS0VF6uZ0VeLrmL8CS5mOLnw2     1       domain                  10.444444\n",
       "1  1SMOS0VF6uZ0VeLrmL8CS5mOLnw2     1     practice                  23.333333\n",
       "2  1SMOS0VF6uZ0VeLrmL8CS5mOLnw2     2       domain                  11.666667\n",
       "3  1SMOS0VF6uZ0VeLrmL8CS5mOLnw2     2     practice                  19.000000\n",
       "4  1SMOS0VF6uZ0VeLrmL8CS5mOLnw2     3       domain                  16.166667\n",
       "5  1SMOS0VF6uZ0VeLrmL8CS5mOLnw2     3     practice                  27.285714"
      ]
     },
     "execution_count": 103,
     "metadata": {},
     "output_type": "execute_result"
    }
   ],
   "source": [
    "a_questions_df_average_time_level = a_questions_df.groupby(['user', 'level', 'lagunasPhase'])[\"averageSecondsBwQuestions\"].mean().reset_index()\n",
    "a_questions_df_average_time_level.head(6)"
   ]
  },
  {
   "cell_type": "code",
   "execution_count": 104,
   "metadata": {},
   "outputs": [
    {
     "data": {
      "text/html": [
       "<div>\n",
       "<style scoped>\n",
       "    .dataframe tbody tr th:only-of-type {\n",
       "        vertical-align: middle;\n",
       "    }\n",
       "\n",
       "    .dataframe tbody tr th {\n",
       "        vertical-align: top;\n",
       "    }\n",
       "\n",
       "    .dataframe thead th {\n",
       "        text-align: right;\n",
       "    }\n",
       "</style>\n",
       "<table border=\"1\" class=\"dataframe\">\n",
       "  <thead>\n",
       "    <tr style=\"text-align: right;\">\n",
       "      <th>lagunasPhase</th>\n",
       "      <th>domain</th>\n",
       "      <th>practice</th>\n",
       "    </tr>\n",
       "    <tr>\n",
       "      <th>level</th>\n",
       "      <th></th>\n",
       "      <th></th>\n",
       "    </tr>\n",
       "  </thead>\n",
       "  <tbody>\n",
       "    <tr>\n",
       "      <th>1</th>\n",
       "      <td>15.213868</td>\n",
       "      <td>48.517335</td>\n",
       "    </tr>\n",
       "    <tr>\n",
       "      <th>2</th>\n",
       "      <td>10.535354</td>\n",
       "      <td>31.333333</td>\n",
       "    </tr>\n",
       "    <tr>\n",
       "      <th>3</th>\n",
       "      <td>12.038869</td>\n",
       "      <td>18.221205</td>\n",
       "    </tr>\n",
       "  </tbody>\n",
       "</table>\n",
       "</div>"
      ],
      "text/plain": [
       "lagunasPhase     domain   practice\n",
       "level                             \n",
       "1             15.213868  48.517335\n",
       "2             10.535354  31.333333\n",
       "3             12.038869  18.221205"
      ]
     },
     "execution_count": 104,
     "metadata": {},
     "output_type": "execute_result"
    },
    {
     "data": {
      "image/png": "[encoded data removed]",
      "text/plain": [
       "<Figure size 500x500 with 1 Axes>"
      ]
     },
     "metadata": {},
     "output_type": "display_data"
    }
   ],
   "source": [
    "a_questions_df_average_time_level_general = pd.pivot_table(a_questions_df_average_time_level, index = \"level\", columns=\"lagunasPhase\", values=\"averageSecondsBwQuestions\", aggfunc=\"mean\")\n",
    "a_questions_df_average_time_level_general.plot.bar(figsize=(5, 5), rot=0)\n",
    "a_questions_df_average_time_level_general\n"
   ]
  },
  {
   "cell_type": "markdown",
   "id": "e35a82f1",
   "metadata": {},
   "source": [
    "### Média de tempo entre perguntas por fase (prática/domínio)"
   ]
  },
  {
   "cell_type": "code",
   "execution_count": 105,
   "id": "96e74648",
   "metadata": {},
   "outputs": [
    {
     "data": {
      "text/html": [
       "<div>\n",
       "<style scoped>\n",
       "    .dataframe tbody tr th:only-of-type {\n",
       "        vertical-align: middle;\n",
       "    }\n",
       "\n",
       "    .dataframe tbody tr th {\n",
       "        vertical-align: top;\n",
       "    }\n",
       "\n",
       "    .dataframe thead th {\n",
       "        text-align: right;\n",
       "    }\n",
       "</style>\n",
       "<table border=\"1\" class=\"dataframe\">\n",
       "  <thead>\n",
       "    <tr style=\"text-align: right;\">\n",
       "      <th></th>\n",
       "      <th>user</th>\n",
       "      <th>lagunasPhase</th>\n",
       "      <th>averageSecondsBwQuestions</th>\n",
       "    </tr>\n",
       "  </thead>\n",
       "  <tbody>\n",
       "    <tr>\n",
       "      <th>0</th>\n",
       "      <td>1SMOS0VF6uZ0VeLrmL8CS5mOLnw2</td>\n",
       "      <td>domain</td>\n",
       "      <td>12.759259</td>\n",
       "    </tr>\n",
       "    <tr>\n",
       "      <th>1</th>\n",
       "      <td>1SMOS0VF6uZ0VeLrmL8CS5mOLnw2</td>\n",
       "      <td>practice</td>\n",
       "      <td>23.206349</td>\n",
       "    </tr>\n",
       "    <tr>\n",
       "      <th>2</th>\n",
       "      <td>2oh7qd25jNSrFcLrxGlVtAl5hvk1</td>\n",
       "      <td>domain</td>\n",
       "      <td>27.998051</td>\n",
       "    </tr>\n",
       "  </tbody>\n",
       "</table>\n",
       "</div>"
      ],
      "text/plain": [
       "                           user lagunasPhase  averageSecondsBwQuestions\n",
       "0  1SMOS0VF6uZ0VeLrmL8CS5mOLnw2       domain                  12.759259\n",
       "1  1SMOS0VF6uZ0VeLrmL8CS5mOLnw2     practice                  23.206349\n",
       "2  2oh7qd25jNSrFcLrxGlVtAl5hvk1       domain                  27.998051"
      ]
     },
     "execution_count": 105,
     "metadata": {},
     "output_type": "execute_result"
    }
   ],
   "source": [
    "a_questions_df_average_time = a_questions_df_average_time_level.groupby(['user', 'lagunasPhase'])[\"averageSecondsBwQuestions\"].mean().reset_index()\n",
    "a_questions_df_average_time.head(3)"
   ]
  },
  {
   "cell_type": "code",
   "execution_count": 106,
   "id": "072e1a49",
   "metadata": {},
   "outputs": [
    {
     "data": {
      "text/plain": [
       "<Axes: xlabel='lagunasPhase'>"
      ]
     },
     "execution_count": 106,
     "metadata": {},
     "output_type": "execute_result"
    },
    {
     "data": {
      "image/png": "[encoded data removed]",
      "text/plain": [
       "<Figure size 400x500 with 1 Axes>"
      ]
     },
     "metadata": {},
     "output_type": "display_data"
    }
   ],
   "source": [
    "a_questions_df_average_time_general = a_questions_df_average_time.groupby(\"lagunasPhase\")[\"averageSecondsBwQuestions\"].mean()\n",
    "a_questions_df_average_time_general.plot.bar(figsize=(4, 5), rot=0)\n"
   ]
  }
 ],
 "metadata": {
  "kernelspec": {
   "display_name": "Python 3 (ipykernel)",
   "language": "python",
   "name": "python3"
  },
  "language_info": {
   "codemirror_mode": {
    "name": "ipython",
    "version": 3
   },
   "file_extension": ".py",
   "mimetype": "text/x-python",
   "name": "python",
   "nbconvert_exporter": "python",
   "pygments_lexer": "ipython3",
   "version": "3.11.5"
  }
 },
 "nbformat": 4,
 "nbformat_minor": 5
}
