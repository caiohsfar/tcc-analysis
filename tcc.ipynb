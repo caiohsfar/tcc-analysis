{
 "cells": [
  {
   "cell_type": "code",
   "execution_count": 1,
   "id": "18461346",
   "metadata": {},
   "outputs": [],
   "source": [
    "#IMPORTS\n",
    "import firebase_admin\n",
    "from firebase_admin import firestore\n",
    "from firebase_admin import credentials\n",
    "import pandas as pd\n",
    "from itables import show\n",
    "\n",
    "import numpy as np  \n",
    "from scipy import stats  \n",
    "\n"
   ]
  },
  {
   "cell_type": "code",
   "execution_count": 2,
   "id": "d0dfeabf",
   "metadata": {},
   "outputs": [],
   "source": [
    "cred = credentials.Certificate(\"./brazillian-gastronomic-tour-firebase-adminsdk-ojrgu-1c98d6e4b6.json\")\n",
    "app = firebase_admin.initialize_app(cred)\n",
    "\n",
    "db = firestore.client()"
   ]
  },
  {
   "cell_type": "code",
   "execution_count": 3,
   "id": "bd9e278f",
   "metadata": {},
   "outputs": [],
   "source": [
    "def collection_to_df(collection):\n",
    "    items = list(db.collection(collection).stream())\n",
    "    items_dict = list(map(lambda x: {'id': x.id, **x.to_dict()}, items))\n",
    "    return pd.DataFrame(items_dict)\n",
    "    "
   ]
  },
  {
   "cell_type": "markdown",
   "id": "39373c38",
   "metadata": {},
   "source": [
    "# Inicializando dataframes"
   ]
  },
  {
   "cell_type": "code",
   "execution_count": 4,
   "id": "08a90577",
   "metadata": {
    "scrolled": true
   },
   "outputs": [],
   "source": [
    "#Initialize Dataframes\n",
    "\n",
    "users_df = collection_to_df(\"users\")\n",
    "users_df = users_df.rename(columns={\"gameLevel\": \"currentGameLevel\"})\n",
    "users_df = users_df.rename(columns={\"id\": \"user\"})\n",
    "users_df = users_df.set_index(\"user\")\n",
    "\n",
    "# REMOVE Gilberto e Caio\n",
    "users_df = users_df.drop(index = \"GyaYyj1DPDQCFL8dtFJeLUbnqsr2\").drop(index = \"LrXx1XUUAfT05eBhi37WwrUF33e2\")\n",
    "\n",
    "\n",
    "user_level_df = collection_to_df(\"userLevel\")\n",
    "\n",
    "a_questions_df = collection_to_df(\"answeredQuestions\")\n",
    "a_questions_df['question'] = a_questions_df['question'].astype(int)\n",
    "a_questions_df = a_questions_df.drop(columns=[\"correctAnswer\", \"id\"])\n",
    "questions_df = collection_to_df(\"questions\")\n",
    "questions_df = questions_df.rename(columns={\"id\": \"question\"})\n",
    "questions_df['question'] = questions_df['question'].astype(int)\n",
    "\n",
    "a_questions_df['lastUpdated']  = pd.to_datetime(a_questions_df.lastUpdated)\n",
    "a_questions_df = questions_df.merge(a_questions_df, how=\"inner\", on=\"question\")\n",
    "a_questions_df = a_questions_df.merge(users_df, how=\"inner\", on=\"user\")\n",
    "\n",
    "a_questions_df = a_questions_df.sort_values(\"lastUpdated\", ascending=True)\n",
    "\n",
    "user_level_df = user_level_df.merge(users_df, how=\"inner\", on=\"user\")\n"
   ]
  },
  {
   "cell_type": "markdown",
   "id": "f964b1c5",
   "metadata": {},
   "source": [
    "# Notas\n",
    "### Relação de notas dos jogadores por fase prática e de domínio"
   ]
  },
  {
   "cell_type": "code",
   "execution_count": 5,
   "id": "ec1ef59e",
   "metadata": {
    "scrolled": true
   },
   "outputs": [],
   "source": [
    "\n",
    "#user_nota\n",
    "\n",
    "user_nota = a_questions_df.query(\"attemptNumber == 1\").groupby([\"user\", \"lagunasPhase\", \"ageRange\", \"gender\", \"correct\"], as_index=False)[\"question\"].count()\n",
    "\n",
    "user_nota = user_nota.pivot_table(index=[\"user\",\"ageRange\", \"gender\", \"lagunasPhase\"], \n",
    "                    columns=[\"correct\"], \n",
    "                    values='question',\n",
    "                    fill_value=0, \n",
    "                    aggfunc='sum').reset_index()\n",
    "\n",
    "\n",
    "# 4 = coluna True\n",
    "# 3 = coluna False\n",
    "\n",
    "\n",
    "\n",
    "user_nota[\"nota\"] = (user_nota.iloc[:,5] / (user_nota.iloc[:,5] + user_nota.iloc[:,4])) * 10\n",
    "\n",
    "\n",
    "#user_nota.head(2)\n"
   ]
  },
  {
   "cell_type": "markdown",
   "id": "dcd3cab4",
   "metadata": {},
   "source": [
    "### Relação de notas dos jogadores por fase prática e de domínio e level"
   ]
  },
  {
   "cell_type": "code",
   "execution_count": 6,
   "id": "ad0e5e40",
   "metadata": {},
   "outputs": [],
   "source": [
    "#user_nota_level\n",
    "\n",
    "user_nota_level = a_questions_df.query(\"attemptNumber == 1\").groupby([\"user\", \"level\", \"lagunasPhase\", \"ageRange\", \"gender\", \"correct\"], as_index=False)[\"question\"].count()\n",
    "\n",
    "user_nota_level = user_nota_level.pivot_table(index=[\"user\", \"ageRange\", \"gender\", \"level\", \"lagunasPhase\"], \n",
    "                    columns=[\"correct\"], \n",
    "                    values='question',\n",
    "                    fill_value=0, \n",
    "                    aggfunc='sum').reset_index()\n",
    "\n",
    "user_nota_level[\"nota\"] = (user_nota_level.iloc[:,6] / (user_nota_level.iloc[:,6] + user_nota_level.iloc[:,5])) * 10\n",
    "\n",
    "#user_nota_level.head(6)\n",
    "\n",
    "#user_nota_level.query(\"user =='kElSsXoFsvN9lUupxzWAmJPJhbz1'\")"
   ]
  },
  {
   "cell_type": "markdown",
   "id": "f635f02f",
   "metadata": {},
   "source": [
    "### Média de nota por idade"
   ]
  },
  {
   "cell_type": "markdown",
   "id": "9fd033bf",
   "metadata": {},
   "source": [
    "#### Fase Prática"
   ]
  },
  {
   "cell_type": "code",
   "execution_count": 7,
   "id": "475c87f1",
   "metadata": {},
   "outputs": [
    {
     "data": {
      "text/plain": [
       "array([<Axes: title={'center': 'nota'}, ylabel='ageRange'>], dtype=object)"
      ]
     },
     "execution_count": 7,
     "metadata": {},
     "output_type": "execute_result"
    },
    {
     "data": {
      "image/png": "[encoded data removed]",
      "text/plain": [
       "<Figure size 300x400 with 1 Axes>"
      ]
     },
     "metadata": {},
     "output_type": "display_data"
    }
   ],
   "source": [
    "user_nota_level_average_age_range_practice = user_nota_level.query(\"lagunasPhase == 'practice'\").groupby([\"ageRange\"])[\"nota\"].mean()\n",
    "\n",
    "user_nota_level_average_age_range_practice.plot(kind = \"barh\", subplots=True, figsize=(3,4), title = \"médias\")\n"
   ]
  },
  {
   "cell_type": "code",
   "execution_count": 8,
   "id": "819380df",
   "metadata": {},
   "outputs": [],
   "source": [
    "## Verificar anova faixa etaria\n",
    "user_nota_practice = user_nota.query(\"lagunasPhase == 'practice'\")\n",
    "nota_practice_domain = user_nota.query(\"lagunasPhase == 'domain'\")\n",
    "user_nota_practice_shapiro = user_nota_practice.groupby('ageRange')[\"nota\"].apply(lambda x: pd.Series(stats.shapiro(x),index=['W','P']))\n",
    "user_nota_domain_shapiro = user_nota_practice.groupby('ageRange')[\"nota\"].apply(lambda x: pd.Series(stats.shapiro(x),index=['W','P']))\n",
    "\n",
    "\n"
   ]
  },
  {
   "cell_type": "markdown",
   "id": "e1aebf57",
   "metadata": {},
   "source": [
    "#### Fase Domínio"
   ]
  },
  {
   "cell_type": "code",
   "execution_count": 9,
   "id": "e5f46e48",
   "metadata": {},
   "outputs": [
    {
     "data": {
      "text/plain": [
       "array([<Axes: title={'center': 'nota'}, xlabel='ageRange'>], dtype=object)"
      ]
     },
     "execution_count": 9,
     "metadata": {},
     "output_type": "execute_result"
    },
    {
     "data": {
      "image/png": "[encoded data removed]",
      "text/plain": [
       "<Figure size 300x400 with 1 Axes>"
      ]
     },
     "metadata": {},
     "output_type": "display_data"
    }
   ],
   "source": [
    "user_nota_level_average_age_range_domain = user_nota_level.query(\"lagunasPhase == 'domain'\").groupby([\"ageRange\"])[\"nota\"].mean()\n",
    "\n",
    "user_nota_level_average_age_range_domain.plot.bar(subplots=True, figsize=(3,4), rot=0)"
   ]
  },
  {
   "cell_type": "markdown",
   "id": "088d2bc0",
   "metadata": {},
   "source": [
    "### Média de nota por lagunasPhase"
   ]
  },
  {
   "cell_type": "code",
   "execution_count": 10,
   "id": "fe2e6b90",
   "metadata": {},
   "outputs": [
    {
     "data": {
      "text/plain": [
       "array([<Axes: title={'center': 'nota'}, xlabel='lagunasPhase'>],\n",
       "      dtype=object)"
      ]
     },
     "execution_count": 10,
     "metadata": {},
     "output_type": "execute_result"
    },
    {
     "data": {
      "image/png": "[encoded data removed]",
      "text/plain": [
       "<Figure size 300x400 with 1 Axes>"
      ]
     },
     "metadata": {},
     "output_type": "display_data"
    }
   ],
   "source": [
    "user_nota_level_average_lagunas = user_nota_level.groupby([\"lagunasPhase\"])[\"nota\"].mean()\n",
    "\n",
    "user_nota_level_average_lagunas.plot.bar(subplots=True, figsize=(3,4), rot=0)"
   ]
  },
  {
   "cell_type": "markdown",
   "id": "b90c9e49",
   "metadata": {},
   "source": [
    "### Média de nota por sexo"
   ]
  },
  {
   "cell_type": "markdown",
   "id": "1c12ef63",
   "metadata": {},
   "source": [
    "#### Fase Prática"
   ]
  },
  {
   "cell_type": "code",
   "execution_count": 11,
   "id": "33ba1fd3",
   "metadata": {},
   "outputs": [
    {
     "data": {
      "text/plain": [
       "array([<Axes: title={'center': 'nota'}, xlabel='gender'>], dtype=object)"
      ]
     },
     "execution_count": 11,
     "metadata": {},
     "output_type": "execute_result"
    },
    {
     "data": {
      "image/png": "[encoded data removed]",
      "text/plain": [
       "<Figure size 300x400 with 1 Axes>"
      ]
     },
     "metadata": {},
     "output_type": "display_data"
    }
   ],
   "source": [
    "user_nota_level_average_gender_practice = user_nota_level.query(\"lagunasPhase == 'practice'\").groupby([\"gender\"])[\"nota\"].mean()\n",
    "\n",
    "user_nota_level_average_gender_practice.plot.bar(subplots=True, figsize=(3,4), rot=0)"
   ]
  },
  {
   "cell_type": "markdown",
   "id": "1731e2fc",
   "metadata": {},
   "source": [
    "#### Fase de Domínio"
   ]
  },
  {
   "cell_type": "code",
   "execution_count": 12,
   "id": "df935b36",
   "metadata": {},
   "outputs": [
    {
     "data": {
      "text/plain": [
       "array([<Axes: title={'center': 'nota'}, xlabel='gender'>], dtype=object)"
      ]
     },
     "execution_count": 12,
     "metadata": {},
     "output_type": "execute_result"
    },
    {
     "data": {
      "image/png": "[encoded data removed]",
      "text/plain": [
       "<Figure size 300x400 with 1 Axes>"
      ]
     },
     "metadata": {},
     "output_type": "display_data"
    }
   ],
   "source": [
    "user_nota_level_average_gender_domain = user_nota_level.query(\"lagunasPhase == 'domain'\").groupby([\"gender\"])[\"nota\"].mean()\n",
    "\n",
    "user_nota_level_average_gender_domain.plot.bar(subplots=True, figsize=(3,4), rot=0)"
   ]
  },
  {
   "cell_type": "markdown",
   "id": "d7d35fc8",
   "metadata": {},
   "source": [
    "# Relação de acerto e erro\n",
    "\n",
    "### Acerto e erro por nível"
   ]
  },
  {
   "cell_type": "code",
   "execution_count": 13,
   "metadata": {},
   "outputs": [
    {
     "data": {
      "text/html": [
       "<style>.itables table td {\n",
       "    text-overflow: ellipsis;\n",
       "    overflow: hidden;\n",
       "}\n",
       "\n",
       ".itables table th {\n",
       "    text-overflow: ellipsis;\n",
       "    overflow: hidden;\n",
       "}\n",
       "\n",
       ".itables thead input {\n",
       "    width: 100%;\n",
       "    padding: 3px;\n",
       "    box-sizing: border-box;\n",
       "}\n",
       "\n",
       ".itables tfoot input {\n",
       "    width: 100%;\n",
       "    padding: 3px;\n",
       "    box-sizing: border-box;\n",
       "}\n",
       "</style>\n",
       "<div class=\"itables\">\n",
       "<table id=\"cab2c383-a354-4c6c-a536-521719713af2\" class=\"display nowrap\"style=\"table-layout:auto;width:auto;margin:auto;caption-side:bottom\"><thead>\n",
       "    <tr style=\"text-align: right;\">\n",
       "      \n",
       "      <th>level</th>\n",
       "      <th>correct</th>\n",
       "      <th>question</th>\n",
       "      <th>percent</th>\n",
       "    </tr>\n",
       "  </thead><tbody><tr><td>Loading... (need <a href=https://mwouts.github.io/itables/troubleshooting.html>help</a>?)</td></tr></tbody></table>\n",
       "<link rel=\"stylesheet\" type=\"text/css\" href=\"https://cdn.datatables.net/1.13.1/css/jquery.dataTables.min.css\">\n",
       "<script type=\"module\">\n",
       "    // Import jquery and DataTable\n",
       "    import 'https://code.jquery.com/jquery-3.6.0.min.js';\n",
       "    import dt from 'https://cdn.datatables.net/1.12.1/js/jquery.dataTables.mjs';\n",
       "    dt($);\n",
       "\n",
       "    // Define the table data\n",
       "    const data = [[\"1\", false, 69, 21.495327], [\"1\", true, 252, 78.504673], [\"2\", false, 36, 16.363636], [\"2\", true, 184, 83.636364], [\"3\", false, 25, 19.53125], [\"3\", true, 103, 80.46875]];\n",
       "\n",
       "    // Define the dt_args\n",
       "    let dt_args = {\"order\": [], \"dom\": \"t\"};\n",
       "    dt_args[\"data\"] = data;\n",
       "\n",
       "    $(document).ready(function () {\n",
       "        \n",
       "        $('#cab2c383-a354-4c6c-a536-521719713af2').DataTable(dt_args);\n",
       "    });\n",
       "</script>\n",
       "</div>\n"
      ],
      "text/plain": [
       "<IPython.core.display.HTML object>"
      ]
     },
     "metadata": {},
     "output_type": "display_data"
    }
   ],
   "source": [
    "#acerto_erro_by_nivel\n",
    "\n",
    "acerto_erro_by_nivel = a_questions_df.query(\"attemptNumber == 1\").groupby([\"level\", \"correct\"], as_index=False).agg({'question': 'count'})\n",
    "\n",
    "acerto_erro_by_nivel['percent'] =  acerto_erro_by_nivel['question'] / acerto_erro_by_nivel.groupby(['level'])['question'].transform('sum') * 100\n",
    "show(acerto_erro_by_nivel)"
   ]
  },
  {
   "cell_type": "markdown",
   "id": "51160df4",
   "metadata": {},
   "source": [
    "### Acerto e erro por fase prática e de domínio"
   ]
  },
  {
   "cell_type": "code",
   "execution_count": 14,
   "id": "c885bc32",
   "metadata": {},
   "outputs": [
    {
     "data": {
      "text/html": [
       "<style>.itables table td {\n",
       "    text-overflow: ellipsis;\n",
       "    overflow: hidden;\n",
       "}\n",
       "\n",
       ".itables table th {\n",
       "    text-overflow: ellipsis;\n",
       "    overflow: hidden;\n",
       "}\n",
       "\n",
       ".itables thead input {\n",
       "    width: 100%;\n",
       "    padding: 3px;\n",
       "    box-sizing: border-box;\n",
       "}\n",
       "\n",
       ".itables tfoot input {\n",
       "    width: 100%;\n",
       "    padding: 3px;\n",
       "    box-sizing: border-box;\n",
       "}\n",
       "</style>\n",
       "<div class=\"itables\">\n",
       "<table id=\"25076d08-5bc7-4426-a65b-c36c56780371\" class=\"display nowrap\"style=\"table-layout:auto;width:auto;margin:auto;caption-side:bottom\"><thead>\n",
       "    <tr style=\"text-align: right;\">\n",
       "      \n",
       "      <th>lagunasPhase</th>\n",
       "      <th>correct</th>\n",
       "      <th>question</th>\n",
       "      <th>percent</th>\n",
       "    </tr>\n",
       "  </thead><tbody><tr><td>Loading... (need <a href=https://mwouts.github.io/itables/troubleshooting.html>help</a>?)</td></tr></tbody></table>\n",
       "<link rel=\"stylesheet\" type=\"text/css\" href=\"https://cdn.datatables.net/1.13.1/css/jquery.dataTables.min.css\">\n",
       "<script type=\"module\">\n",
       "    // Import jquery and DataTable\n",
       "    import 'https://code.jquery.com/jquery-3.6.0.min.js';\n",
       "    import dt from 'https://cdn.datatables.net/1.12.1/js/jquery.dataTables.mjs';\n",
       "    dt($);\n",
       "\n",
       "    // Define the table data\n",
       "    const data = [[\"domain\", false, 20, 5.988024], [\"domain\", true, 314, 94.011976], [\"practice\", false, 110, 32.835821], [\"practice\", true, 225, 67.164179]];\n",
       "\n",
       "    // Define the dt_args\n",
       "    let dt_args = {\"order\": [], \"dom\": \"t\"};\n",
       "    dt_args[\"data\"] = data;\n",
       "\n",
       "    $(document).ready(function () {\n",
       "        \n",
       "        $('#25076d08-5bc7-4426-a65b-c36c56780371').DataTable(dt_args);\n",
       "    });\n",
       "</script>\n",
       "</div>\n"
      ],
      "text/plain": [
       "<IPython.core.display.HTML object>"
      ]
     },
     "metadata": {},
     "output_type": "display_data"
    }
   ],
   "source": [
    "#acerto_erro_by_phase\n",
    "\n",
    "acerto_erro_by_phase = a_questions_df.query(\"attemptNumber == 1\").groupby([\"lagunasPhase\", \"correct\"], as_index=False).agg({'question': 'count'})\n",
    "\n",
    "\n",
    "acerto_erro_by_phase['percent'] =  acerto_erro_by_phase['question'] / acerto_erro_by_phase.groupby(['lagunasPhase'])['question'].transform('sum') * 100\n",
    "show(acerto_erro_by_phase)"
   ]
  },
  {
   "cell_type": "markdown",
   "id": "72976606",
   "metadata": {},
   "source": [
    "### Acerto e erro por fase e nível"
   ]
  },
  {
   "cell_type": "code",
   "execution_count": 15,
   "metadata": {},
   "outputs": [
    {
     "data": {
      "text/html": [
       "<style>.itables table td {\n",
       "    text-overflow: ellipsis;\n",
       "    overflow: hidden;\n",
       "}\n",
       "\n",
       ".itables table th {\n",
       "    text-overflow: ellipsis;\n",
       "    overflow: hidden;\n",
       "}\n",
       "\n",
       ".itables thead input {\n",
       "    width: 100%;\n",
       "    padding: 3px;\n",
       "    box-sizing: border-box;\n",
       "}\n",
       "\n",
       ".itables tfoot input {\n",
       "    width: 100%;\n",
       "    padding: 3px;\n",
       "    box-sizing: border-box;\n",
       "}\n",
       "</style>\n",
       "<div class=\"itables\">\n",
       "<table id=\"b1c40ad0-d928-4420-beef-795ec3015f68\" class=\"display nowrap\"style=\"table-layout:auto;width:auto;margin:auto;caption-side:bottom\"><thead>\n",
       "    <tr style=\"text-align: right;\">\n",
       "      \n",
       "      <th>level</th>\n",
       "      <th>lagunasPhase</th>\n",
       "      <th>correct</th>\n",
       "      <th>question</th>\n",
       "      <th>percent</th>\n",
       "    </tr>\n",
       "  </thead><tbody><tr><td>Loading... (need <a href=https://mwouts.github.io/itables/troubleshooting.html>help</a>?)</td></tr></tbody></table>\n",
       "<link rel=\"stylesheet\" type=\"text/css\" href=\"https://cdn.datatables.net/1.13.1/css/jquery.dataTables.min.css\">\n",
       "<script type=\"module\">\n",
       "    // Import jquery and DataTable\n",
       "    import 'https://code.jquery.com/jquery-3.6.0.min.js';\n",
       "    import dt from 'https://cdn.datatables.net/1.12.1/js/jquery.dataTables.mjs';\n",
       "    dt($);\n",
       "\n",
       "    // Define the table data\n",
       "    const data = [[\"1\", \"domain\", false, 15, 4.672897], [\"1\", \"domain\", true, 145, 45.17134], [\"1\", \"practice\", false, 54, 16.82243], [\"1\", \"practice\", true, 107, 33.333333], [\"2\", \"domain\", false, 3, 1.363636], [\"2\", \"domain\", true, 107, 48.636364], [\"2\", \"practice\", false, 33, 15.0], [\"2\", \"practice\", true, 77, 35.0], [\"3\", \"domain\", false, 2, 1.5625], [\"3\", \"domain\", true, 62, 48.4375], [\"3\", \"practice\", false, 23, 17.96875], [\"3\", \"practice\", true, 41, 32.03125]];\n",
       "\n",
       "    // Define the dt_args\n",
       "    let dt_args = {\"order\": []};\n",
       "    dt_args[\"data\"] = data;\n",
       "\n",
       "    $(document).ready(function () {\n",
       "        \n",
       "        $('#b1c40ad0-d928-4420-beef-795ec3015f68').DataTable(dt_args);\n",
       "    });\n",
       "</script>\n",
       "</div>\n"
      ],
      "text/plain": [
       "<IPython.core.display.HTML object>"
      ]
     },
     "metadata": {},
     "output_type": "display_data"
    }
   ],
   "source": [
    "#Taxa de acerto e erro por nível e mostrando a fase laguna\n",
    "\n",
    "acerto_erro_by_phase_level = a_questions_df.query(\"attemptNumber == 1\").groupby([\"level\", \"lagunasPhase\", \"correct\"], as_index=False).agg({'question': 'count'})\n",
    "\n",
    "\n",
    "acerto_erro_by_phase_level['percent'] =  acerto_erro_by_phase_level['question'] / acerto_erro_by_phase_level.groupby(['level'])['question'].transform('sum') * 100\n",
    "show(acerto_erro_by_phase_level)"
   ]
  },
  {
   "cell_type": "markdown",
   "id": "e6ebd827",
   "metadata": {},
   "source": [
    "### Acerto e erro por faixa etária"
   ]
  },
  {
   "cell_type": "code",
   "execution_count": 16,
   "id": "d7d63b9b",
   "metadata": {},
   "outputs": [
    {
     "data": {
      "text/html": [
       "<style>.itables table td {\n",
       "    text-overflow: ellipsis;\n",
       "    overflow: hidden;\n",
       "}\n",
       "\n",
       ".itables table th {\n",
       "    text-overflow: ellipsis;\n",
       "    overflow: hidden;\n",
       "}\n",
       "\n",
       ".itables thead input {\n",
       "    width: 100%;\n",
       "    padding: 3px;\n",
       "    box-sizing: border-box;\n",
       "}\n",
       "\n",
       ".itables tfoot input {\n",
       "    width: 100%;\n",
       "    padding: 3px;\n",
       "    box-sizing: border-box;\n",
       "}\n",
       "</style>\n",
       "<div class=\"itables\">\n",
       "<table id=\"f0dd7b5f-3cb1-42db-b7b4-932acb334ff5\" class=\"display nowrap\"style=\"table-layout:auto;width:auto;margin:auto;caption-side:bottom\"><thead>\n",
       "    <tr style=\"text-align: right;\">\n",
       "      \n",
       "      <th>ageRange</th>\n",
       "      <th>correct</th>\n",
       "      <th>question</th>\n",
       "    </tr>\n",
       "  </thead><tbody><tr><td>Loading... (need <a href=https://mwouts.github.io/itables/troubleshooting.html>help</a>?)</td></tr></tbody></table>\n",
       "<link rel=\"stylesheet\" type=\"text/css\" href=\"https://cdn.datatables.net/1.13.1/css/jquery.dataTables.min.css\">\n",
       "<script type=\"module\">\n",
       "    // Import jquery and DataTable\n",
       "    import 'https://code.jquery.com/jquery-3.6.0.min.js';\n",
       "    import dt from 'https://cdn.datatables.net/1.12.1/js/jquery.dataTables.mjs';\n",
       "    dt($);\n",
       "\n",
       "    // Define the table data\n",
       "    const data = [[\"13-25\", false, 103], [\"13-25\", true, 397], [\"26-55\", false, 27], [\"26-55\", true, 142]];\n",
       "\n",
       "    // Define the dt_args\n",
       "    let dt_args = {\"order\": [], \"dom\": \"t\"};\n",
       "    dt_args[\"data\"] = data;\n",
       "\n",
       "    $(document).ready(function () {\n",
       "        \n",
       "        $('#f0dd7b5f-3cb1-42db-b7b4-932acb334ff5').DataTable(dt_args);\n",
       "    });\n",
       "</script>\n",
       "</div>\n"
      ],
      "text/plain": [
       "<IPython.core.display.HTML object>"
      ]
     },
     "metadata": {},
     "output_type": "display_data"
    }
   ],
   "source": [
    "acerto_erro_by_age_range = a_questions_df.query(\"attemptNumber == 1\").groupby([\"ageRange\", \"correct\"], as_index=False).agg({'question': 'count'})\n",
    "show(acerto_erro_by_age_range)\n"
   ]
  },
  {
   "cell_type": "markdown",
   "id": "a6df1330",
   "metadata": {},
   "source": [
    "### Acerto e erro por gênero"
   ]
  },
  {
   "cell_type": "code",
   "execution_count": 17,
   "id": "cfd014bf",
   "metadata": {},
   "outputs": [
    {
     "data": {
      "text/html": [
       "<style>.itables table td {\n",
       "    text-overflow: ellipsis;\n",
       "    overflow: hidden;\n",
       "}\n",
       "\n",
       ".itables table th {\n",
       "    text-overflow: ellipsis;\n",
       "    overflow: hidden;\n",
       "}\n",
       "\n",
       ".itables thead input {\n",
       "    width: 100%;\n",
       "    padding: 3px;\n",
       "    box-sizing: border-box;\n",
       "}\n",
       "\n",
       ".itables tfoot input {\n",
       "    width: 100%;\n",
       "    padding: 3px;\n",
       "    box-sizing: border-box;\n",
       "}\n",
       "</style>\n",
       "<div class=\"itables\">\n",
       "<table id=\"4365140b-fc83-498b-b229-ace9b5d50c24\" class=\"display nowrap\"style=\"table-layout:auto;width:auto;margin:auto;caption-side:bottom\"><thead>\n",
       "    <tr style=\"text-align: right;\">\n",
       "      \n",
       "      <th>gender</th>\n",
       "      <th>correct</th>\n",
       "      <th>question</th>\n",
       "    </tr>\n",
       "  </thead><tbody><tr><td>Loading... (need <a href=https://mwouts.github.io/itables/troubleshooting.html>help</a>?)</td></tr></tbody></table>\n",
       "<link rel=\"stylesheet\" type=\"text/css\" href=\"https://cdn.datatables.net/1.13.1/css/jquery.dataTables.min.css\">\n",
       "<script type=\"module\">\n",
       "    // Import jquery and DataTable\n",
       "    import 'https://code.jquery.com/jquery-3.6.0.min.js';\n",
       "    import dt from 'https://cdn.datatables.net/1.12.1/js/jquery.dataTables.mjs';\n",
       "    dt($);\n",
       "\n",
       "    // Define the table data\n",
       "    const data = [[\"Female\", false, 75], [\"Female\", true, 256], [\"Male\", false, 55], [\"Male\", true, 283]];\n",
       "\n",
       "    // Define the dt_args\n",
       "    let dt_args = {\"order\": [], \"dom\": \"t\"};\n",
       "    dt_args[\"data\"] = data;\n",
       "\n",
       "    $(document).ready(function () {\n",
       "        \n",
       "        $('#4365140b-fc83-498b-b229-ace9b5d50c24').DataTable(dt_args);\n",
       "    });\n",
       "</script>\n",
       "</div>\n"
      ],
      "text/plain": [
       "<IPython.core.display.HTML object>"
      ]
     },
     "metadata": {},
     "output_type": "display_data"
    }
   ],
   "source": [
    "acerto_erro_by_gender = a_questions_df.query(\"attemptNumber == 1\").groupby([\"gender\", \"correct\"], as_index=False).agg({'question': 'count'})\n",
    "show(acerto_erro_by_gender)"
   ]
  },
  {
   "cell_type": "markdown",
   "id": "d6f6f1cc",
   "metadata": {},
   "source": [
    "# Porcentagem de acerto e erro por questão"
   ]
  },
  {
   "cell_type": "code",
   "execution_count": 18,
   "id": "bebbe681",
   "metadata": {},
   "outputs": [
    {
     "data": {
      "text/html": [
       "<style>.itables table td {\n",
       "    text-overflow: ellipsis;\n",
       "    overflow: hidden;\n",
       "}\n",
       "\n",
       ".itables table th {\n",
       "    text-overflow: ellipsis;\n",
       "    overflow: hidden;\n",
       "}\n",
       "\n",
       ".itables thead input {\n",
       "    width: 100%;\n",
       "    padding: 3px;\n",
       "    box-sizing: border-box;\n",
       "}\n",
       "\n",
       ".itables tfoot input {\n",
       "    width: 100%;\n",
       "    padding: 3px;\n",
       "    box-sizing: border-box;\n",
       "}\n",
       "</style>\n",
       "<div class=\"itables\">\n",
       "<table id=\"d8cbe627-aece-4892-87da-4bfad514732d\" class=\"display nowrap\"style=\"table-layout:auto;width:auto;margin:auto;caption-side:bottom\"><thead>\n",
       "    <tr style=\"text-align: right;\">\n",
       "      <th>correct</th>\n",
       "      <th>question</th>\n",
       "      <th>erradas</th>\n",
       "      <th>corretas</th>\n",
       "      <th>% corretas</th>\n",
       "      <th>% erradas</th>\n",
       "      <th>total de perguntas</th>\n",
       "    </tr>\n",
       "  </thead><tbody><tr><td>Loading... (need <a href=https://mwouts.github.io/itables/troubleshooting.html>help</a>?)</td></tr></tbody></table>\n",
       "<link rel=\"stylesheet\" type=\"text/css\" href=\"https://cdn.datatables.net/1.13.1/css/jquery.dataTables.min.css\">\n",
       "<script type=\"module\">\n",
       "    // Import jquery and DataTable\n",
       "    import 'https://code.jquery.com/jquery-3.6.0.min.js';\n",
       "    import dt from 'https://cdn.datatables.net/1.12.1/js/jquery.dataTables.mjs';\n",
       "    dt($);\n",
       "\n",
       "    // Define the table data\n",
       "    const data = [[null, 2, 4, 28, 87.5, 12.5, 32], [null, 3, 8, 24, 75.0, 25.0, 32], [null, 4, 2, 30, 93.75, 6.25, 32], [null, 5, 9, 23, 71.875, 28.125, 32], [null, 6, 13, 19, 59.375, 40.625, 32], [null, 7, 10, 22, 68.75, 31.25, 32], [null, 8, 4, 28, 87.5, 12.5, 32], [null, 9, 11, 22, 66.666667, 33.333333, 33], [null, 10, 2, 30, 93.75, 6.25, 32], [null, 11, 6, 26, 81.25, 18.75, 32], [null, 12, 0, 22, 100.0, 0.0, 22], [null, 13, 0, 22, 100.0, 0.0, 22], [null, 14, 0, 22, 100.0, 0.0, 22], [null, 15, 4, 18, 81.818182, 18.181818, 22], [null, 16, 6, 16, 72.727273, 27.272727, 22], [null, 17, 4, 18, 81.818182, 18.181818, 22], [null, 18, 2, 20, 90.909091, 9.090909, 22], [null, 19, 11, 11, 50.0, 50.0, 22], [null, 20, 5, 17, 77.272727, 22.727273, 22], [null, 21, 4, 18, 81.818182, 18.181818, 22], [null, 22, 4, 14, 77.777778, 22.222222, 18], [null, 23, 4, 14, 77.777778, 22.222222, 18], [null, 24, 6, 12, 66.666667, 33.333333, 18], [null, 25, 2, 16, 88.888889, 11.111111, 18], [null, 26, 1, 17, 94.444444, 5.555556, 18], [null, 27, 5, 13, 72.222222, 27.777778, 18], [null, 28, 3, 17, 85.0, 15.0, 20]];\n",
       "\n",
       "    // Define the dt_args\n",
       "    let dt_args = {\"order\": []};\n",
       "    dt_args[\"data\"] = data;\n",
       "\n",
       "    $(document).ready(function () {\n",
       "        \n",
       "        $('#d8cbe627-aece-4892-87da-4bfad514732d').DataTable(dt_args);\n",
       "    });\n",
       "</script>\n",
       "</div>\n"
      ],
      "text/plain": [
       "<IPython.core.display.HTML object>"
      ]
     },
     "metadata": {},
     "output_type": "display_data"
    }
   ],
   "source": [
    "#questions_percentage\n",
    "\n",
    "questions_percentage = a_questions_df.query(\"attemptNumber == 1\").groupby([\"question\", \"correct\"], as_index=False)[\"text\"].count().rename(columns={\"text\": \"count\"})\n",
    "\n",
    "\n",
    "questions_percentage = questions_percentage.pivot_table(index=[\"question\"], \n",
    "                    columns=[\"correct\"], \n",
    "                    values='count',\n",
    "                    fill_value=0, \n",
    "                    aggfunc='sum').reset_index()\n",
    "\n",
    "questions_percentage.rename(columns={ questions_percentage.columns[2]: \"corretas\" }, inplace = True)\n",
    "questions_percentage.rename(columns={ questions_percentage.columns[1]: \"erradas\" }, inplace = True)\n",
    "\n",
    "\n",
    "questions_percentage[\"% corretas\"] = (questions_percentage[\"corretas\"] * 100 / (questions_percentage[\"corretas\"] + questions_percentage[\"erradas\"]))\n",
    "questions_percentage[\"% erradas\"] = (questions_percentage[\"erradas\"] * 100 / (questions_percentage[\"corretas\"] + questions_percentage[\"erradas\"]))\n",
    "questions_percentage[\"total de perguntas\"] = questions_percentage[\"erradas\"]  + questions_percentage[\"corretas\"] \n",
    "\n",
    "show(questions_percentage)"
   ]
  },
  {
   "cell_type": "markdown",
   "id": "a9e68203",
   "metadata": {},
   "source": [
    "# Classificação de perfis de acordo com a metodologia Serrano-Laguna"
   ]
  },
  {
   "cell_type": "code",
   "execution_count": 19,
   "id": "19732677",
   "metadata": {},
   "outputs": [],
   "source": [
    "#Definição de perfis laguna\n",
    "#IT = 6\n",
    "#FT = 8\n",
    "\n",
    "\n",
    "it = 7\n",
    "ft = 7\n",
    "# FA >= FT ==> \n",
    "def classifier(row):\n",
    "    if row[\"domain\"] >= ft:\n",
    "            if row[\"practice\"] < it:\n",
    "                  return \"learner\"\n",
    "            else:\n",
    "                  return \"master\"\n",
    "    else:\n",
    "            if row[\"practice\"] < it:\n",
    "                  return \"non-learner\"\n",
    "            else:\n",
    "                  return \"outlier\"\n",
    "\n",
    "user_nota_classification = user_nota.pivot(index=[\"user\", \"ageRange\"], columns=[\"lagunasPhase\"], values=\"nota\")\n",
    "user_nota_classification[\"classification\"] = user_nota_classification.apply(classifier, axis=1)\n",
    "\n",
    "#user_nota_classification.head(3)\n"
   ]
  },
  {
   "cell_type": "markdown",
   "id": "d9e11b85",
   "metadata": {},
   "source": [
    "### Gráfico com a clasificação geral"
   ]
  },
  {
   "cell_type": "code",
   "execution_count": 20,
   "id": "217e6208",
   "metadata": {},
   "outputs": [
    {
     "data": {
      "text/plain": [
       "<Axes: ylabel='count'>"
      ]
     },
     "execution_count": 20,
     "metadata": {},
     "output_type": "execute_result"
    },
    {
     "data": {
      "image/png": "[encoded data removed]",
      "text/plain": [
       "<Figure size 600x600 with 1 Axes>"
      ]
     },
     "metadata": {},
     "output_type": "display_data"
    }
   ],
   "source": [
    "#Plot Grafico\n",
    "user_nota_classification[\"classification\"].value_counts().plot.pie(figsize=(6, 6), autopct=\"%.2f\")"
   ]
  },
  {
   "cell_type": "code",
   "execution_count": 21,
   "metadata": {},
   "outputs": [],
   "source": [
    "#user_nota_classification_level\n",
    "\n",
    "user_nota_classification_level = user_nota_level.pivot(index=[\"user\", \"level\"], columns=\"lagunasPhase\", values=\"nota\").reset_index()\n",
    "user_nota_classification_level[\"classification\"] =  user_nota_classification_level.apply(classifier, axis=1)\n",
    "#user_nota_classification_level.head(9)"
   ]
  },
  {
   "cell_type": "markdown",
   "id": "e9a1b407",
   "metadata": {},
   "source": [
    "### Gráfico com a clasificação por nível"
   ]
  },
  {
   "cell_type": "code",
   "execution_count": 22,
   "id": "7b48b58b",
   "metadata": {},
   "outputs": [
    {
     "data": {
      "text/html": [
       "<style>.itables table td {\n",
       "    text-overflow: ellipsis;\n",
       "    overflow: hidden;\n",
       "}\n",
       "\n",
       ".itables table th {\n",
       "    text-overflow: ellipsis;\n",
       "    overflow: hidden;\n",
       "}\n",
       "\n",
       ".itables thead input {\n",
       "    width: 100%;\n",
       "    padding: 3px;\n",
       "    box-sizing: border-box;\n",
       "}\n",
       "\n",
       ".itables tfoot input {\n",
       "    width: 100%;\n",
       "    padding: 3px;\n",
       "    box-sizing: border-box;\n",
       "}\n",
       "</style>\n",
       "<div class=\"itables\">\n",
       "<table id=\"6eea56c2-8944-4069-a43a-4a67c8fd90d6\" class=\"display nowrap\"style=\"table-layout:auto;width:auto;margin:auto;caption-side:bottom\"><thead>\n",
       "    <tr style=\"text-align: right;\">\n",
       "      <th>level</th>\n",
       "      <th>1</th>\n",
       "      <th>2</th>\n",
       "      <th>3</th>\n",
       "    </tr>\n",
       "    <tr>\n",
       "      <th>classification</th>\n",
       "      <th></th>\n",
       "      <th></th>\n",
       "      <th></th>\n",
       "    </tr>\n",
       "  </thead><tbody><tr><td>Loading... (need <a href=https://mwouts.github.io/itables/troubleshooting.html>help</a>?)</td></tr></tbody></table>\n",
       "<link rel=\"stylesheet\" type=\"text/css\" href=\"https://cdn.datatables.net/1.13.1/css/jquery.dataTables.min.css\">\n",
       "<script type=\"module\">\n",
       "    // Import jquery and DataTable\n",
       "    import 'https://code.jquery.com/jquery-3.6.0.min.js';\n",
       "    import dt from 'https://cdn.datatables.net/1.12.1/js/jquery.dataTables.mjs';\n",
       "    dt($);\n",
       "\n",
       "    // Define the table data\n",
       "    const data = [[\"learner\", 7, 3, 5], [\"master\", 8, 8, 4], [\"non-learner\", 1, 0, 0]];\n",
       "\n",
       "    // Define the dt_args\n",
       "    let dt_args = {\"order\": [], \"dom\": \"t\"};\n",
       "    dt_args[\"data\"] = data;\n",
       "\n",
       "    $(document).ready(function () {\n",
       "        \n",
       "        $('#6eea56c2-8944-4069-a43a-4a67c8fd90d6').DataTable(dt_args);\n",
       "    });\n",
       "</script>\n",
       "</div>\n"
      ],
      "text/plain": [
       "<IPython.core.display.HTML object>"
      ]
     },
     "metadata": {},
     "output_type": "display_data"
    }
   ],
   "source": [
    "#user_nota_classification_level_reshaped\n",
    "\n",
    "user_nota_classification_level_reshaped = user_nota_classification_level.drop([\"domain\", \"practice\"], axis=1)\n",
    "\n",
    "user_nota_classification_level_reshaped = user_nota_classification_level_reshaped.groupby([\"level\", \"classification\"]).count().reset_index()\n",
    "\n",
    "user_nota_classification_level_reshaped = pd.pivot_table(user_nota_classification_level_reshaped, index = \"classification\", columns=\"level\", values=\"user\", fill_value=0)\n",
    "\n",
    "show(user_nota_classification_level_reshaped)\n",
    "\n"
   ]
  },
  {
   "cell_type": "code",
   "execution_count": 23,
   "id": "a3d3e0b7",
   "metadata": {},
   "outputs": [
    {
     "data": {
      "text/plain": [
       "array([<Axes: ylabel='1'>, <Axes: ylabel='2'>, <Axes: ylabel='3'>],\n",
       "      dtype=object)"
      ]
     },
     "execution_count": 23,
     "metadata": {},
     "output_type": "execute_result"
    },
    {
     "data": {
      "image/png": "[encoded data removed]",
      "text/plain": [
       "<Figure size 2000x1000 with 3 Axes>"
      ]
     },
     "metadata": {},
     "output_type": "display_data"
    }
   ],
   "source": [
    "#Plot Grafico\n",
    "\n",
    "user_nota_classification_level_reshaped.plot.pie(subplots=True,figsize=(20, 10), autopct=\"%.2f\")"
   ]
  },
  {
   "cell_type": "markdown",
   "id": "2578c5fe",
   "metadata": {},
   "source": [
    "### Gráfico com a classificação por faixa etária"
   ]
  },
  {
   "cell_type": "code",
   "execution_count": 24,
   "id": "e0934380",
   "metadata": {},
   "outputs": [
    {
     "data": {
      "text/html": [
       "<style>.itables table td {\n",
       "    text-overflow: ellipsis;\n",
       "    overflow: hidden;\n",
       "}\n",
       "\n",
       ".itables table th {\n",
       "    text-overflow: ellipsis;\n",
       "    overflow: hidden;\n",
       "}\n",
       "\n",
       ".itables thead input {\n",
       "    width: 100%;\n",
       "    padding: 3px;\n",
       "    box-sizing: border-box;\n",
       "}\n",
       "\n",
       ".itables tfoot input {\n",
       "    width: 100%;\n",
       "    padding: 3px;\n",
       "    box-sizing: border-box;\n",
       "}\n",
       "</style>\n",
       "<div class=\"itables\">\n",
       "<table id=\"a71ec4fd-2082-403b-aebd-bd6d29d85dd9\" class=\"display nowrap\"style=\"table-layout:auto;width:auto;margin:auto;caption-side:bottom\"><thead>\n",
       "    <tr style=\"text-align: right;\">\n",
       "      <th>ageRange</th>\n",
       "      <th>13-25</th>\n",
       "      <th>26-55</th>\n",
       "    </tr>\n",
       "    <tr>\n",
       "      <th>classification</th>\n",
       "      <th></th>\n",
       "      <th></th>\n",
       "    </tr>\n",
       "  </thead><tbody><tr><td>Loading... (need <a href=https://mwouts.github.io/itables/troubleshooting.html>help</a>?)</td></tr></tbody></table>\n",
       "<link rel=\"stylesheet\" type=\"text/css\" href=\"https://cdn.datatables.net/1.13.1/css/jquery.dataTables.min.css\">\n",
       "<script type=\"module\">\n",
       "    // Import jquery and DataTable\n",
       "    import 'https://code.jquery.com/jquery-3.6.0.min.js';\n",
       "    import dt from 'https://cdn.datatables.net/1.12.1/js/jquery.dataTables.mjs';\n",
       "    dt($);\n",
       "\n",
       "    // Define the table data\n",
       "    const data = [[\"learner\", 6, 0], [\"master\", 5, 4], [\"non-learner\", 1, 0]];\n",
       "\n",
       "    // Define the dt_args\n",
       "    let dt_args = {\"order\": [], \"dom\": \"t\"};\n",
       "    dt_args[\"data\"] = data;\n",
       "\n",
       "    $(document).ready(function () {\n",
       "        \n",
       "        $('#a71ec4fd-2082-403b-aebd-bd6d29d85dd9').DataTable(dt_args);\n",
       "    });\n",
       "</script>\n",
       "</div>\n"
      ],
      "text/plain": [
       "<IPython.core.display.HTML object>"
      ]
     },
     "metadata": {},
     "output_type": "display_data"
    }
   ],
   "source": [
    "user_nota_classification_age_range = user_nota.pivot(index=[\"user\",  \"ageRange\"], columns=[\"lagunasPhase\"], values=\"nota\").reset_index()\n",
    "user_nota_classification_age_range[\"classification\"] =  user_nota_classification_age_range.apply(classifier, axis=1)\n",
    "user_nota_classification_age_range = user_nota_classification_age_range.drop([\"domain\", \"practice\"], axis=1)\n",
    "user_nota_classification_age_range = user_nota_classification_age_range.groupby([\"ageRange\", \"classification\"]).count().reset_index()\n",
    "\n",
    "user_nota_classification_age_range = pd.pivot_table(user_nota_classification_age_range, index = \"classification\", columns=\"ageRange\", values=\"user\", fill_value=0)\n",
    "show(user_nota_classification_age_range)\n",
    "\n"
   ]
  },
  {
   "cell_type": "code",
   "execution_count": 25,
   "id": "7968cac6",
   "metadata": {},
   "outputs": [
    {
     "data": {
      "text/plain": [
       "array([<Axes: ylabel='13-25'>, <Axes: ylabel='26-55'>], dtype=object)"
      ]
     },
     "execution_count": 25,
     "metadata": {},
     "output_type": "execute_result"
    },
    {
     "data": {
      "image/png": "[encoded data removed]",
      "text/plain": [
       "<Figure size 2000x800 with 2 Axes>"
      ]
     },
     "metadata": {},
     "output_type": "display_data"
    }
   ],
   "source": [
    "#user_nota_classification_age_range.plot.bar(subplots=True, figsize=(3, 10), rot=0)\n",
    "\n",
    "user_nota_classification_age_range.plot.pie(subplots=True,figsize=(20, 8), autopct=\"%.2f\", startangle=40)"
   ]
  },
  {
   "cell_type": "markdown",
   "id": "e49abb6a",
   "metadata": {},
   "source": [
    "### Relação por gênero"
   ]
  },
  {
   "cell_type": "code",
   "execution_count": 26,
   "id": "94bfe182",
   "metadata": {},
   "outputs": [
    {
     "data": {
      "text/html": [
       "<style>.itables table td {\n",
       "    text-overflow: ellipsis;\n",
       "    overflow: hidden;\n",
       "}\n",
       "\n",
       ".itables table th {\n",
       "    text-overflow: ellipsis;\n",
       "    overflow: hidden;\n",
       "}\n",
       "\n",
       ".itables thead input {\n",
       "    width: 100%;\n",
       "    padding: 3px;\n",
       "    box-sizing: border-box;\n",
       "}\n",
       "\n",
       ".itables tfoot input {\n",
       "    width: 100%;\n",
       "    padding: 3px;\n",
       "    box-sizing: border-box;\n",
       "}\n",
       "</style>\n",
       "<div class=\"itables\">\n",
       "<table id=\"8a4516e5-a784-4d4a-95b3-ae8914b2d79f\" class=\"display nowrap\"style=\"table-layout:auto;width:auto;margin:auto;caption-side:bottom\"><thead>\n",
       "    <tr style=\"text-align: right;\">\n",
       "      <th>gender</th>\n",
       "      <th>Female</th>\n",
       "      <th>Male</th>\n",
       "    </tr>\n",
       "    <tr>\n",
       "      <th>classification</th>\n",
       "      <th></th>\n",
       "      <th></th>\n",
       "    </tr>\n",
       "  </thead><tbody><tr><td>Loading... (need <a href=https://mwouts.github.io/itables/troubleshooting.html>help</a>?)</td></tr></tbody></table>\n",
       "<link rel=\"stylesheet\" type=\"text/css\" href=\"https://cdn.datatables.net/1.13.1/css/jquery.dataTables.min.css\">\n",
       "<script type=\"module\">\n",
       "    // Import jquery and DataTable\n",
       "    import 'https://code.jquery.com/jquery-3.6.0.min.js';\n",
       "    import dt from 'https://cdn.datatables.net/1.12.1/js/jquery.dataTables.mjs';\n",
       "    dt($);\n",
       "\n",
       "    // Define the table data\n",
       "    const data = [[\"learner\", 3, 3], [\"master\", 3, 6], [\"non-learner\", 1, 0]];\n",
       "\n",
       "    // Define the dt_args\n",
       "    let dt_args = {\"order\": [], \"dom\": \"t\"};\n",
       "    dt_args[\"data\"] = data;\n",
       "\n",
       "    $(document).ready(function () {\n",
       "        \n",
       "        $('#8a4516e5-a784-4d4a-95b3-ae8914b2d79f').DataTable(dt_args);\n",
       "    });\n",
       "</script>\n",
       "</div>\n"
      ],
      "text/plain": [
       "<IPython.core.display.HTML object>"
      ]
     },
     "metadata": {},
     "output_type": "display_data"
    }
   ],
   "source": [
    "user_nota_classification_gender = user_nota.pivot(index=[\"user\",  \"gender\"], columns=[\"lagunasPhase\"], values=\"nota\").reset_index()\n",
    "user_nota_classification_gender[\"classification\"] =  user_nota_classification_gender.apply(classifier, axis=1)\n",
    "user_nota_classification_gender = user_nota_classification_gender.drop([\"domain\", \"practice\"], axis=1)\n",
    "user_nota_classification_gender = user_nota_classification_gender.groupby([\"gender\", \"classification\"]).count().reset_index()\n",
    "\n",
    "user_nota_classification_gender = pd.pivot_table(user_nota_classification_gender, index = \"classification\", columns=\"gender\", values=\"user\", fill_value=0)\n",
    "show(user_nota_classification_gender)"
   ]
  },
  {
   "cell_type": "markdown",
   "id": "1b8845d1",
   "metadata": {},
   "source": [
    "### Relação de classificação no sexo Feminino"
   ]
  },
  {
   "cell_type": "code",
   "execution_count": 27,
   "id": "e2c1b601",
   "metadata": {},
   "outputs": [
    {
     "data": {
      "text/plain": [
       "array([<Axes: ylabel='Female'>], dtype=object)"
      ]
     },
     "execution_count": 27,
     "metadata": {},
     "output_type": "execute_result"
    },
    {
     "data": {
      "image/png": "[encoded data removed]",
      "text/plain": [
       "<Figure size 300x1000 with 1 Axes>"
      ]
     },
     "metadata": {},
     "output_type": "display_data"
    }
   ],
   "source": [
    "user_nota_classification_gender[\"Female\"].plot.pie(subplots=True, figsize=(3, 10), autopct=\"%.2f\")"
   ]
  },
  {
   "cell_type": "markdown",
   "id": "8eae370d",
   "metadata": {},
   "source": [
    "### Relação de classificação no sexo Masculino"
   ]
  },
  {
   "cell_type": "code",
   "execution_count": 28,
   "id": "4be52951",
   "metadata": {},
   "outputs": [
    {
     "data": {
      "text/plain": [
       "array([<Axes: ylabel='Male'>], dtype=object)"
      ]
     },
     "execution_count": 28,
     "metadata": {},
     "output_type": "execute_result"
    },
    {
     "data": {
      "image/png": "[encoded data removed]",
      "text/plain": [
       "<Figure size 300x1000 with 1 Axes>"
      ]
     },
     "metadata": {},
     "output_type": "display_data"
    }
   ],
   "source": [
    "user_nota_classification_gender[\"Male\"].plot.pie(subplots=True, figsize=(3, 10), autopct=\"%.2f\")"
   ]
  },
  {
   "cell_type": "markdown",
   "id": "675417eb",
   "metadata": {},
   "source": [
    "# Relação de tempo entre perguntas"
   ]
  },
  {
   "cell_type": "code",
   "execution_count": 29,
   "id": "eca1641b",
   "metadata": {},
   "outputs": [],
   "source": [
    "a_questions_df[\"averageSecondsBwQuestions\"] = a_questions_df.groupby(['user', 'level', 'lagunasPhase'])['lastUpdated'].diff().dt.seconds\n"
   ]
  },
  {
   "cell_type": "markdown",
   "id": "9cd4dca6",
   "metadata": {},
   "source": [
    "### Relação de tempo entre perguntas por nível e fase (prática/domínio)"
   ]
  },
  {
   "cell_type": "code",
   "execution_count": 30,
   "id": "de18a820",
   "metadata": {},
   "outputs": [],
   "source": [
    "a_questions_df_average_time_level = a_questions_df.groupby(['user', 'level', 'lagunasPhase'])[\"averageSecondsBwQuestions\"].mean().reset_index()\n",
    "#a_questions_df_average_time_level.head(6)"
   ]
  },
  {
   "cell_type": "code",
   "execution_count": 31,
   "metadata": {},
   "outputs": [
    {
     "data": {
      "text/html": [
       "<style>.itables table td {\n",
       "    text-overflow: ellipsis;\n",
       "    overflow: hidden;\n",
       "}\n",
       "\n",
       ".itables table th {\n",
       "    text-overflow: ellipsis;\n",
       "    overflow: hidden;\n",
       "}\n",
       "\n",
       ".itables thead input {\n",
       "    width: 100%;\n",
       "    padding: 3px;\n",
       "    box-sizing: border-box;\n",
       "}\n",
       "\n",
       ".itables tfoot input {\n",
       "    width: 100%;\n",
       "    padding: 3px;\n",
       "    box-sizing: border-box;\n",
       "}\n",
       "</style>\n",
       "<div class=\"itables\">\n",
       "<table id=\"77e0fcea-ee1b-4c6c-87b0-61b7f38076cc\" class=\"display nowrap\"style=\"table-layout:auto;width:auto;margin:auto;caption-side:bottom\"><thead>\n",
       "    <tr style=\"text-align: right;\">\n",
       "      <th>lagunasPhase</th>\n",
       "      <th>domain</th>\n",
       "      <th>practice</th>\n",
       "    </tr>\n",
       "    <tr>\n",
       "      <th>level</th>\n",
       "      <th></th>\n",
       "      <th></th>\n",
       "    </tr>\n",
       "  </thead><tbody><tr><td>Loading... (need <a href=https://mwouts.github.io/itables/troubleshooting.html>help</a>?)</td></tr></tbody></table>\n",
       "<link rel=\"stylesheet\" type=\"text/css\" href=\"https://cdn.datatables.net/1.13.1/css/jquery.dataTables.min.css\">\n",
       "<script type=\"module\">\n",
       "    // Import jquery and DataTable\n",
       "    import 'https://code.jquery.com/jquery-3.6.0.min.js';\n",
       "    import dt from 'https://cdn.datatables.net/1.12.1/js/jquery.dataTables.mjs';\n",
       "    dt($);\n",
       "\n",
       "    // Define the table data\n",
       "    const data = [[\"1\", 15.249635, 47.133224], [\"2\", 10.535354, 31.333333], [\"3\", 12.038869, 18.221205]];\n",
       "\n",
       "    // Define the dt_args\n",
       "    let dt_args = {\"order\": [], \"dom\": \"t\"};\n",
       "    dt_args[\"data\"] = data;\n",
       "\n",
       "    $(document).ready(function () {\n",
       "        \n",
       "        $('#77e0fcea-ee1b-4c6c-87b0-61b7f38076cc').DataTable(dt_args);\n",
       "    });\n",
       "</script>\n",
       "</div>\n"
      ],
      "text/plain": [
       "<IPython.core.display.HTML object>"
      ]
     },
     "metadata": {},
     "output_type": "display_data"
    },
    {
     "data": {
      "image/png": "[encoded data removed]",
      "text/plain": [
       "<Figure size 500x500 with 1 Axes>"
      ]
     },
     "metadata": {},
     "output_type": "display_data"
    }
   ],
   "source": [
    "a_questions_df_average_time_level_general = pd.pivot_table(a_questions_df_average_time_level, index = \"level\", columns=\"lagunasPhase\", values=\"averageSecondsBwQuestions\", aggfunc=\"mean\")\n",
    "a_questions_df_average_time_level_general.plot.bar(figsize=(5, 5), rot=0)\n",
    "show(a_questions_df_average_time_level_general)\n"
   ]
  },
  {
   "cell_type": "markdown",
   "id": "e35a82f1",
   "metadata": {},
   "source": [
    "### Média de tempo entre perguntas por fase (prática/domínio)"
   ]
  },
  {
   "cell_type": "code",
   "execution_count": 32,
   "id": "96e74648",
   "metadata": {},
   "outputs": [],
   "source": [
    "a_questions_df_average_time = a_questions_df_average_time_level.groupby(['user', 'lagunasPhase'])[\"averageSecondsBwQuestions\"].mean().reset_index()\n",
    "#a_questions_df_average_time.head(3)"
   ]
  },
  {
   "cell_type": "code",
   "execution_count": 33,
   "id": "072e1a49",
   "metadata": {},
   "outputs": [
    {
     "data": {
      "text/plain": [
       "<Axes: xlabel='lagunasPhase'>"
      ]
     },
     "execution_count": 33,
     "metadata": {},
     "output_type": "execute_result"
    },
    {
     "data": {
      "image/png": "[encoded data removed]",
      "text/plain": [
       "<Figure size 400x500 with 1 Axes>"
      ]
     },
     "metadata": {},
     "output_type": "display_data"
    }
   ],
   "source": [
    "a_questions_df_average_time_general = a_questions_df_average_time.groupby(\"lagunasPhase\")[\"averageSecondsBwQuestions\"].mean()\n",
    "a_questions_df_average_time_general.plot.bar(figsize=(4, 5), rot=0)\n"
   ]
  },
  {
   "cell_type": "markdown",
   "id": "425f8b8f",
   "metadata": {},
   "source": [
    "# Teste de hipóteses: Gênero\n",
    "\n",
    "\n",
    "### Fase prática: Verificar se existe diferenças significativas nas médias entre os sexos F e M\n",
    "### Hipótese nula: não existem diferenças significativas nas médias dos sexos F e M\n",
    "### Hipótese alternativa: Existem diferenças significativas nas médias dos sexos F e M  "
   ]
  },
  {
   "cell_type": "code",
   "execution_count": 34,
   "id": "9c066870",
   "metadata": {},
   "outputs": [
    {
     "name": "stdout",
     "output_type": "stream",
     "text": [
      "Seguem uma distribuição normal: foi utilizado o teste shapiro pois o tamanho da amostra é menor que 50\n",
      "Masculino: Shapiro p > 0.05 ShapiroResult(statistic=0.944467306137085, pvalue=0.6296290159225464)\n",
      "Feminino: Shapiro p > 0.05 ShapiroResult(statistic=0.8846020102500916, pvalue=0.24767175316810608)\n",
      "\n",
      "Variâncias são homogêneas: \n",
      "Levene p > 0.05: \n",
      "LeveneResult(statistic=0.632522687679007, pvalue=0.4397078504920269)\n",
      "\n",
      "Aceitamos a hipótese nula, ou seja, não houveram diferenças significativas baseadas no sexo para a fase prática\n",
      "T teste, p > 0.05\n",
      "TtestResult(statistic=0.7459906673292875, pvalue=0.46801490350656405, df=14.0)\n"
     ]
    }
   ],
   "source": [
    "user_nota_practice = user_nota.query(\"lagunasPhase == 'practice'\")\n",
    "nota_practice_male = user_nota_practice.query(\"gender == 'Male'\")[\"nota\"]\n",
    "nota_practice_female = user_nota_practice.query(\"gender == 'Female'\")[\"nota\"]\n",
    "\n",
    "print(\"Seguem uma distribuição normal: foi utilizado o teste shapiro pois o tamanho da amostra é menor que 50\")\n",
    "print(\"Masculino: Shapiro p > 0.05\", stats.shapiro(nota_practice_male))\n",
    "print(\"Feminino: Shapiro p > 0.05\", stats.shapiro(nota_practice_female))\n",
    "\n",
    "print(\"\\nVariâncias são homogêneas: \")\n",
    "print(\"Levene p > 0.05: \")\n",
    "print(stats.levene(nota_practice_male, nota_practice_female))\n",
    "\n",
    "print(\"\\nAceitamos a hipótese nula, ou seja, não houveram diferenças significativas baseadas no sexo para a fase prática\")\n",
    "print(\"T teste, p > 0.05\")\n",
    "print(stats.ttest_ind(a=nota_practice_male, b=nota_practice_female, equal_var=True))\n",
    "\n",
    "# pvalue=0.4680149035065640\n",
    "# Significa que não houve diferenças significativas baseadas no sexo para a fase prática\n"
   ]
  },
  {
   "cell_type": "markdown",
   "id": "139993e2",
   "metadata": {},
   "source": [
    "### Fase de domínio: Verificar se existe diferenças significativas nas médias entre os sexos F e M"
   ]
  },
  {
   "cell_type": "code",
   "execution_count": 35,
   "id": "c3d26176",
   "metadata": {},
   "outputs": [
    {
     "name": "stdout",
     "output_type": "stream",
     "text": [
      "Seguem uma distribuição normal: foi utilizado o teste shapiro pois o tamanho da amostra é menor que 50\n",
      "Masculino: Shapiro p > 0.05 ShapiroResult(statistic=0.944467306137085, pvalue=0.6296290159225464)\n",
      "Feminino: Shapiro p > 0.05 ShapiroResult(statistic=0.8846020102500916, pvalue=0.24767175316810608)\n",
      "\n",
      "Variâncias são homogêneas: \n",
      "Levene p > 0.05: \n",
      "LeveneResult(statistic=0.632522687679007, pvalue=0.4397078504920269)\n",
      "\n",
      "Aceitamos a hipótese nula, ou seja, não houveram diferenças significativas baseadas no sexo para a fase de domínio\n",
      "T teste, p > 0.05\n",
      "TtestResult(statistic=0.7459906673292875, pvalue=0.46801490350656405, df=14.0)\n"
     ]
    }
   ],
   "source": [
    "user_nota_domain = user_nota.query(\"lagunasPhase == 'domain'\")\n",
    "nota_domain_male = user_nota_practice.query(\"gender == 'Male'\")[\"nota\"]\n",
    "nota_domain_female = user_nota_practice.query(\"gender == 'Female'\")[\"nota\"]\n",
    "\n",
    "print(\"Seguem uma distribuição normal: foi utilizado o teste shapiro pois o tamanho da amostra é menor que 50\")\n",
    "\n",
    "print(\"Masculino: Shapiro p > 0.05\", stats.shapiro(nota_domain_male))\n",
    "print(\"Feminino: Shapiro p > 0.05\", stats.shapiro(nota_domain_female))\n",
    "\n",
    "print(\"\\nVariâncias são homogêneas: \")\n",
    "print(\"Levene p > 0.05: \")\n",
    "print(stats.levene(nota_domain_male, nota_domain_female))\n",
    "\n",
    "print(\"\\nAceitamos a hipótese nula, ou seja, não houveram diferenças significativas baseadas no sexo para a fase de domínio\")\n",
    "print(\"T teste, p > 0.05\")\n",
    "print(stats.ttest_ind(a=nota_domain_male, b=nota_domain_female, equal_var=True))\n",
    "\n",
    "# pvalue=0.4680149035065640\n",
    "# Significa que não houve diferenças significativas baseadas no sexo para a fase prática"
   ]
  }
 ],
 "metadata": {
  "kernelspec": {
   "display_name": "Python 3 (ipykernel)",
   "language": "python",
   "name": "python3"
  },
  "language_info": {
   "codemirror_mode": {
    "name": "ipython",
    "version": 3
   },
   "file_extension": ".py",
   "mimetype": "text/x-python",
   "name": "python",
   "nbconvert_exporter": "python",
   "pygments_lexer": "ipython3",
   "version": "3.11.5"
  }
 },
 "nbformat": 4,
 "nbformat_minor": 5
}
